{
 "cells": [
  {
   "cell_type": "markdown",
   "metadata": {},
   "source": [
    "# Import Libraries"
   ]
  },
  {
   "cell_type": "code",
   "execution_count": 2,
   "metadata": {},
   "outputs": [],
   "source": [
    "from pathlib import Path\n",
    "import csv\n",
    "import pandas as pd"
   ]
  },
  {
   "cell_type": "markdown",
   "metadata": {},
   "source": [
    "# Read CSV "
   ]
  },
  {
   "cell_type": "code",
   "execution_count": 3,
   "metadata": {},
   "outputs": [],
   "source": [
    "fedpath = Path(\"fed_covid.csv\")"
   ]
  },
  {
   "cell_type": "code",
   "execution_count": 4,
   "metadata": {},
   "outputs": [
    {
     "data": {
      "text/html": [
       "<div>\n",
       "<style scoped>\n",
       "    .dataframe tbody tr th:only-of-type {\n",
       "        vertical-align: middle;\n",
       "    }\n",
       "\n",
       "    .dataframe tbody tr th {\n",
       "        vertical-align: top;\n",
       "    }\n",
       "\n",
       "    .dataframe thead th {\n",
       "        text-align: right;\n",
       "    }\n",
       "</style>\n",
       "<table border=\"1\" class=\"dataframe\">\n",
       "  <thead>\n",
       "    <tr style=\"text-align: right;\">\n",
       "      <th></th>\n",
       "      <th>date</th>\n",
       "      <th>headline</th>\n",
       "      <th>release</th>\n",
       "      <th>url</th>\n",
       "      <th>text</th>\n",
       "    </tr>\n",
       "  </thead>\n",
       "  <tbody>\n",
       "    <tr>\n",
       "      <th>count</th>\n",
       "      <td>60</td>\n",
       "      <td>60</td>\n",
       "      <td>60</td>\n",
       "      <td>60</td>\n",
       "      <td>60</td>\n",
       "    </tr>\n",
       "    <tr>\n",
       "      <th>unique</th>\n",
       "      <td>43</td>\n",
       "      <td>55</td>\n",
       "      <td>3</td>\n",
       "      <td>60</td>\n",
       "      <td>60</td>\n",
       "    </tr>\n",
       "    <tr>\n",
       "      <th>top</th>\n",
       "      <td>17-Mar-20</td>\n",
       "      <td>Federal Reserve issues FOMC statement</td>\n",
       "      <td>Press Release</td>\n",
       "      <td>https://www.federalreserve.gov/newsevents/pres...</td>\n",
       "      <td>The federal bank regulatory agencies today ann...</td>\n",
       "    </tr>\n",
       "    <tr>\n",
       "      <th>freq</th>\n",
       "      <td>3</td>\n",
       "      <td>6</td>\n",
       "      <td>40</td>\n",
       "      <td>1</td>\n",
       "      <td>1</td>\n",
       "    </tr>\n",
       "  </tbody>\n",
       "</table>\n",
       "</div>"
      ],
      "text/plain": [
       "             date                               headline        release  \\\n",
       "count          60                                     60             60   \n",
       "unique         43                                     55              3   \n",
       "top     17-Mar-20  Federal Reserve issues FOMC statement  Press Release   \n",
       "freq            3                                      6             40   \n",
       "\n",
       "                                                      url  \\\n",
       "count                                                  60   \n",
       "unique                                                 60   \n",
       "top     https://www.federalreserve.gov/newsevents/pres...   \n",
       "freq                                                    1   \n",
       "\n",
       "                                                     text  \n",
       "count                                                  60  \n",
       "unique                                                 60  \n",
       "top     The federal bank regulatory agencies today ann...  \n",
       "freq                                                    1  "
      ]
     },
     "execution_count": 4,
     "metadata": {},
     "output_type": "execute_result"
    }
   ],
   "source": [
    "fed_csv = pd.read_csv(fedpath)\n",
    "# Check duplicate links etc. \n",
    "fed_csv.describe()"
   ]
  },
  {
   "cell_type": "code",
   "execution_count": 5,
   "metadata": {},
   "outputs": [
    {
     "data": {
      "text/plain": [
       "date                                                 1-Jul-20\n",
       "headline    Agencies provide largest firms with informatio...\n",
       "release                                   Joint Press Release\n",
       "url         https://www.federalreserve.gov/newsevents/pres...\n",
       "text        The Federal Deposit Insurance Corporation and ...\n",
       "Name: 0, dtype: object"
      ]
     },
     "execution_count": 5,
     "metadata": {},
     "output_type": "execute_result"
    }
   ],
   "source": [
    "# First Row \n",
    "fed_csv.iloc[0]"
   ]
  },
  {
   "cell_type": "code",
   "execution_count": 6,
   "metadata": {},
   "outputs": [
    {
     "data": {
      "text/html": [
       "<div>\n",
       "<style scoped>\n",
       "    .dataframe tbody tr th:only-of-type {\n",
       "        vertical-align: middle;\n",
       "    }\n",
       "\n",
       "    .dataframe tbody tr th {\n",
       "        vertical-align: top;\n",
       "    }\n",
       "\n",
       "    .dataframe thead th {\n",
       "        text-align: right;\n",
       "    }\n",
       "</style>\n",
       "<table border=\"1\" class=\"dataframe\">\n",
       "  <thead>\n",
       "    <tr style=\"text-align: right;\">\n",
       "      <th></th>\n",
       "      <th>headline</th>\n",
       "      <th>release</th>\n",
       "      <th>url</th>\n",
       "      <th>text</th>\n",
       "    </tr>\n",
       "    <tr>\n",
       "      <th>date</th>\n",
       "      <th></th>\n",
       "      <th></th>\n",
       "      <th></th>\n",
       "      <th></th>\n",
       "    </tr>\n",
       "  </thead>\n",
       "  <tbody>\n",
       "    <tr>\n",
       "      <th>29-Apr-20</th>\n",
       "      <td>Federal Reserve issues FOMC statement</td>\n",
       "      <td>Press Release</td>\n",
       "      <td>https://www.federalreserve.gov/newsevents/pres...</td>\n",
       "      <td>The Federal Reserve is committed to using its ...</td>\n",
       "    </tr>\n",
       "    <tr>\n",
       "      <th>27-Apr-20</th>\n",
       "      <td>Agencies extend comment period on updates to r...</td>\n",
       "      <td>Joint Press Release</td>\n",
       "      <td>https://www.federalreserve.gov/newsevents/pres...</td>\n",
       "      <td>The Federal Deposit Insurance Corporation and ...</td>\n",
       "    </tr>\n",
       "  </tbody>\n",
       "</table>\n",
       "</div>"
      ],
      "text/plain": [
       "                                                    headline  \\\n",
       "date                                                           \n",
       "29-Apr-20              Federal Reserve issues FOMC statement   \n",
       "27-Apr-20  Agencies extend comment period on updates to r...   \n",
       "\n",
       "                       release  \\\n",
       "date                             \n",
       "29-Apr-20        Press Release   \n",
       "27-Apr-20  Joint Press Release   \n",
       "\n",
       "                                                         url  \\\n",
       "date                                                           \n",
       "29-Apr-20  https://www.federalreserve.gov/newsevents/pres...   \n",
       "27-Apr-20  https://www.federalreserve.gov/newsevents/pres...   \n",
       "\n",
       "                                                        text  \n",
       "date                                                          \n",
       "29-Apr-20  The Federal Reserve is committed to using its ...  \n",
       "27-Apr-20  The Federal Deposit Insurance Corporation and ...  "
      ]
     },
     "execution_count": 6,
     "metadata": {},
     "output_type": "execute_result"
    }
   ],
   "source": [
    "# Set date as index\n",
    "fed_csv = fed_csv.set_index(fed_csv['date'])\n",
    "fed_csv = fed_csv.drop(columns = ['date'])\n",
    "fed_csv.sample(2)"
   ]
  },
  {
   "cell_type": "markdown",
   "metadata": {},
   "source": [
    "# FED FOMC"
   ]
  },
  {
   "cell_type": "code",
   "execution_count": 7,
   "metadata": {
    "scrolled": true
   },
   "outputs": [
    {
     "data": {
      "text/plain": [
       "6"
      ]
     },
     "execution_count": 7,
     "metadata": {},
     "output_type": "execute_result"
    }
   ],
   "source": [
    "fed_FOMC = fed_csv.loc[fed_csv['headline'] == 'Federal Reserve issues FOMC statement']\n",
    "fed_FOMC\n",
    "len(fed_FOMC)"
   ]
  },
  {
   "cell_type": "markdown",
   "metadata": {},
   "source": [
    "# FED *Other"
   ]
  },
  {
   "cell_type": "code",
   "execution_count": 26,
   "metadata": {
    "scrolled": true
   },
   "outputs": [
    {
     "name": "stdout",
     "output_type": "stream",
     "text": [
      "Municipal Liquidity Facility: 4\n",
      "Main Street Lending Program: 5\n",
      "Term Asset-Backed Securities Loan Facility: 3\n",
      "Paycheck Protection Program: 8\n",
      "Paycheck Protection Program Liquidity Facility: 4\n",
      "Primary Dealer Credit Facility: 1\n",
      "Commercial Paper Funding Facility: 2\n"
     ]
    }
   ],
   "source": [
    "fed_MLF = fed_csv.loc[fed_csv['text'].str.contains('Municipal Liquidity Facility')]\n",
    "fed_MAINST = fed_csv.loc[fed_csv['text'].str.contains('Main Street Lending Program')]\n",
    "fed_TALF = fed_csv.loc[fed_csv['text'].str.contains('TALF')]\n",
    "fed_PPP = fed_csv.loc[fed_csv['text'].str.contains('PPP')]\n",
    "fed_PPPLF = fed_csv.loc[fed_csv['text'].str.contains('PPPLF')]\n",
    "fed_PDCF = fed_csv.loc[fed_csv['text'].str.contains('PDCF')]\n",
    "fed_CPFF = fed_csv.loc[fed_csv['text'].str.contains('CPFF')]\n",
    "\n",
    "\n",
    "print(f\"Municipal Liquidity Facility: {len(fed_MLF)}\")\n",
    "print(f\"Main Street Lending Program: {len(fed_MAINST)}\")\n",
    "print(f\"Term Asset-Backed Securities Loan Facility: {len(fed_TALF)}\")\n",
    "print(f\"Paycheck Protection Program: {len(fed_PPP)}\")\n",
    "print(f\"Paycheck Protection Program Liquidity Facility: {len(fed_PPPLF)}\")\n",
    "print(f\"Primary Dealer Credit Facility: {len(fed_PDCF)}\")\n",
    "print(f\"Commercial Paper Funding Facility: {len(fed_CPFF)}\")"
   ]
  },
  {
   "cell_type": "markdown",
   "metadata": {},
   "source": [
    "# LEMMANTIZE FED_FOMC"
   ]
  },
  {
   "cell_type": "markdown",
   "metadata": {},
   "source": [
    "#### Import Libraries "
   ]
  },
  {
   "cell_type": "code",
   "execution_count": 58,
   "metadata": {},
   "outputs": [
    {
     "name": "stderr",
     "output_type": "stream",
     "text": [
      "[nltk_data] Downloading package stopwords to\n",
      "[nltk_data]     C:\\Users\\mindy\\AppData\\Roaming\\nltk_data...\n",
      "[nltk_data]   Package stopwords is already up-to-date!\n",
      "[nltk_data] Downloading package punkt to\n",
      "[nltk_data]     C:\\Users\\mindy\\AppData\\Roaming\\nltk_data...\n",
      "[nltk_data]   Package punkt is already up-to-date!\n",
      "[nltk_data] Downloading package wordnet to\n",
      "[nltk_data]     C:\\Users\\mindy\\AppData\\Roaming\\nltk_data...\n",
      "[nltk_data]   Package wordnet is already up-to-date!\n"
     ]
    },
    {
     "data": {
      "text/plain": [
       "True"
      ]
     },
     "execution_count": 58,
     "metadata": {},
     "output_type": "execute_result"
    }
   ],
   "source": [
    "from nltk.stem import WordNetLemmatizer \n",
    "from nltk.tokenize import word_tokenize\n",
    "from nltk.corpus import reuters, stopwords\n",
    "import re\n",
    "\n",
    "from collections import Counter\n",
    "\n",
    "from nltk.corpus import reuters, stopwords\n",
    "from nltk.util import ngrams\n",
    "from nltk.tokenize import word_tokenize\n",
    "from nltk.stem import WordNetLemmatizer\n",
    "\n",
    "# Code to download corpora\n",
    "import nltk\n",
    "nltk.download('stopwords')\n",
    "nltk.download('punkt')\n",
    "nltk.download('wordnet')"
   ]
  },
  {
   "cell_type": "code",
   "execution_count": 59,
   "metadata": {},
   "outputs": [],
   "source": [
    "# Instantiate the lemmatizer\n",
    "lemmatizer = WordNetLemmatizer()"
   ]
  },
  {
   "cell_type": "code",
   "execution_count": 60,
   "metadata": {
    "scrolled": true
   },
   "outputs": [
    {
     "data": {
      "text/html": [
       "<div>\n",
       "<style scoped>\n",
       "    .dataframe tbody tr th:only-of-type {\n",
       "        vertical-align: middle;\n",
       "    }\n",
       "\n",
       "    .dataframe tbody tr th {\n",
       "        vertical-align: top;\n",
       "    }\n",
       "\n",
       "    .dataframe thead th {\n",
       "        text-align: right;\n",
       "    }\n",
       "</style>\n",
       "<table border=\"1\" class=\"dataframe\">\n",
       "  <thead>\n",
       "    <tr style=\"text-align: right;\">\n",
       "      <th></th>\n",
       "      <th>headline</th>\n",
       "      <th>release</th>\n",
       "      <th>url</th>\n",
       "      <th>text</th>\n",
       "    </tr>\n",
       "    <tr>\n",
       "      <th>date</th>\n",
       "      <th></th>\n",
       "      <th></th>\n",
       "      <th></th>\n",
       "      <th></th>\n",
       "    </tr>\n",
       "  </thead>\n",
       "  <tbody>\n",
       "    <tr>\n",
       "      <th>10-Jun-20</th>\n",
       "      <td>Federal Reserve issues FOMC statement</td>\n",
       "      <td>Press Release</td>\n",
       "      <td>https://www.federalreserve.gov/newsevents/pres...</td>\n",
       "      <td>The Federal Reserve is committed to using its ...</td>\n",
       "    </tr>\n",
       "    <tr>\n",
       "      <th>29-Apr-20</th>\n",
       "      <td>Federal Reserve issues FOMC statement</td>\n",
       "      <td>Press Release</td>\n",
       "      <td>https://www.federalreserve.gov/newsevents/pres...</td>\n",
       "      <td>The Federal Reserve is committed to using its ...</td>\n",
       "    </tr>\n",
       "    <tr>\n",
       "      <th>23-Mar-20</th>\n",
       "      <td>Federal Reserve issues FOMC statement</td>\n",
       "      <td>Press Release</td>\n",
       "      <td>https://www.federalreserve.gov/newsevents/pres...</td>\n",
       "      <td>The Federal Reserve is committed to use its fu...</td>\n",
       "    </tr>\n",
       "    <tr>\n",
       "      <th>15-Mar-20</th>\n",
       "      <td>Federal Reserve issues FOMC statement</td>\n",
       "      <td>Press Release</td>\n",
       "      <td>https://www.federalreserve.gov/newsevents/pres...</td>\n",
       "      <td>The coronavirus outbreak has harmed communitie...</td>\n",
       "    </tr>\n",
       "    <tr>\n",
       "      <th>3-Mar-20</th>\n",
       "      <td>Federal Reserve issues FOMC statement</td>\n",
       "      <td>Press Release</td>\n",
       "      <td>https://www.federalreserve.gov/newsevents/pres...</td>\n",
       "      <td>The fundamentals of the U.S. economy remain st...</td>\n",
       "    </tr>\n",
       "    <tr>\n",
       "      <th>29-Jan-20</th>\n",
       "      <td>Federal Reserve issues FOMC statement</td>\n",
       "      <td>Press Release</td>\n",
       "      <td>https://www.federalreserve.gov/newsevents/pres...</td>\n",
       "      <td>Information received since the Federal Open Ma...</td>\n",
       "    </tr>\n",
       "  </tbody>\n",
       "</table>\n",
       "</div>"
      ],
      "text/plain": [
       "                                        headline        release  \\\n",
       "date                                                              \n",
       "10-Jun-20  Federal Reserve issues FOMC statement  Press Release   \n",
       "29-Apr-20  Federal Reserve issues FOMC statement  Press Release   \n",
       "23-Mar-20  Federal Reserve issues FOMC statement  Press Release   \n",
       "15-Mar-20  Federal Reserve issues FOMC statement  Press Release   \n",
       "3-Mar-20   Federal Reserve issues FOMC statement  Press Release   \n",
       "29-Jan-20  Federal Reserve issues FOMC statement  Press Release   \n",
       "\n",
       "                                                         url  \\\n",
       "date                                                           \n",
       "10-Jun-20  https://www.federalreserve.gov/newsevents/pres...   \n",
       "29-Apr-20  https://www.federalreserve.gov/newsevents/pres...   \n",
       "23-Mar-20  https://www.federalreserve.gov/newsevents/pres...   \n",
       "15-Mar-20  https://www.federalreserve.gov/newsevents/pres...   \n",
       "3-Mar-20   https://www.federalreserve.gov/newsevents/pres...   \n",
       "29-Jan-20  https://www.federalreserve.gov/newsevents/pres...   \n",
       "\n",
       "                                                        text  \n",
       "date                                                          \n",
       "10-Jun-20  The Federal Reserve is committed to using its ...  \n",
       "29-Apr-20  The Federal Reserve is committed to using its ...  \n",
       "23-Mar-20  The Federal Reserve is committed to use its fu...  \n",
       "15-Mar-20  The coronavirus outbreak has harmed communitie...  \n",
       "3-Mar-20   The fundamentals of the U.S. economy remain st...  \n",
       "29-Jan-20  Information received since the Federal Open Ma...  "
      ]
     },
     "execution_count": 60,
     "metadata": {},
     "output_type": "execute_result"
    }
   ],
   "source": [
    "fed_FOMC"
   ]
  },
  {
   "cell_type": "code",
   "execution_count": 61,
   "metadata": {},
   "outputs": [],
   "source": [
    "jan_29_FOMC = fed_FOMC.iloc[-1]['text']\n",
    "mar_3_FOMC = fed_FOMC.iloc[-2]['text']\n",
    "mar_15_FOMC = fed_FOMC.iloc[-3]['text']\n",
    "mar_23_FOMC = fed_FOMC.iloc[-4]['text']\n",
    "apr_29_FOMC = fed_FOMC.iloc[-5]['text']\n",
    "jun_10_FOMC = fed_FOMC.iloc[-6]['text']"
   ]
  },
  {
   "cell_type": "code",
   "execution_count": 62,
   "metadata": {},
   "outputs": [],
   "source": [
    "# Define function\n",
    "def process_text(x):\n",
    "    sw = set(stopwords.words('english'))\n",
    "    regex = re.compile(\"[^a-zA-Z ]\")\n",
    "    re_clean = regex.sub('', x)\n",
    "    words = word_tokenize(re_clean)\n",
    "    lem = [lemmatizer.lemmatize(word) for word in words]\n",
    "    output = [word.lower() for word in lem if word.lower() not in sw]\n",
    "    return output"
   ]
  },
  {
   "cell_type": "markdown",
   "metadata": {},
   "source": [
    "### JAN 29 LEMMANTIZE"
   ]
  },
  {
   "cell_type": "code",
   "execution_count": 74,
   "metadata": {
    "scrolled": true
   },
   "outputs": [
    {
     "name": "stdout",
     "output_type": "stream",
     "text": [
      "['information', 'received', 'since', 'federal', 'open', 'market', 'committee', 'met', 'december', 'indicates', 'labor', 'market', 'remains', 'strong', 'economic', 'activity', 'ha', 'rising', 'moderate', 'rate', 'job', 'gain', 'solid', 'average', 'recent', 'month', 'unemployment', 'rate', 'ha', 'remained', 'low', 'although', 'household', 'spending', 'ha', 'rising', 'moderate', 'pace', 'business', 'fixed', 'investment', 'export', 'remain', 'weak', 'month', 'basis', 'overall', 'inflation', 'inflation', 'item', 'food', 'energy', 'running', 'percent', 'marketbased', 'measure', 'inflation', 'compensation', 'remain', 'low', 'surveybased', 'measure', 'longerterm', 'inflation', 'expectation', 'little', 'changed', 'consistent', 'statutory', 'mandate', 'committee', 'seek', 'foster', 'maximum', 'employment', 'price', 'stability', 'committee', 'decided', 'maintain', 'target', 'range', 'federal', 'fund', 'rate', 'percent', 'committee', 'judge', 'current', 'stance', 'monetary', 'policy', 'appropriate', 'support', 'sustained', 'expansion', 'economic', 'activity', 'strong', 'labor', 'market', 'condition', 'inflation', 'returning', 'committees', 'symmetric', 'percent', 'objective', 'committee', 'continue', 'monitor', 'implication', 'incoming', 'information', 'economic', 'outlook', 'including', 'global', 'development', 'muted', 'inflation', 'pressure', 'ass', 'appropriate', 'path', 'target', 'range', 'federal', 'fund', 'rate', 'determining', 'timing', 'size', 'future', 'adjustment', 'target', 'range', 'federal', 'fund', 'rate', 'committee', 'ass', 'realized', 'expected', 'economic', 'condition', 'relative', 'maximum', 'employment', 'objective', 'symmetric', 'percent', 'inflation', 'objective', 'assessment', 'take', 'account', 'wide', 'range', 'information', 'including', 'measure', 'labor', 'market', 'condition', 'indicator', 'inflation', 'pressure', 'inflation', 'expectation', 'reading', 'financial', 'international', 'development']\n"
     ]
    }
   ],
   "source": [
    "x = jan_29_FOMC\n",
    "\n",
    "LEM_jan_29 = process_text(x)\n",
    "print(LEM_jan_29)"
   ]
  },
  {
   "cell_type": "code",
   "execution_count": 75,
   "metadata": {},
   "outputs": [
    {
     "name": "stdout",
     "output_type": "stream",
     "text": [
      "{'inflation': 9, 'committee': 6, 'rate': 5, 'federal': 4, 'market': 4, 'economic': 4, 'percent': 4, 'range': 4, 'information': 3, 'labor': 3, 'ha': 3, 'measure': 3, 'target': 3, 'fund': 3, 'condition': 3, 'objective': 3, 'strong': 2, 'activity': 2, 'rising': 2, 'moderate': 2}\n"
     ]
    }
   ],
   "source": [
    "wc_jan_29 = Counter(LEM_jan_29)\n",
    "print(dict(wc_jan_29.most_common(20)))"
   ]
  },
  {
   "cell_type": "code",
   "execution_count": 76,
   "metadata": {},
   "outputs": [
    {
     "name": "stdout",
     "output_type": "stream",
     "text": [
      "{('labor', 'market'): 3, ('target', 'range'): 3, ('range', 'federal'): 3, ('federal', 'fund'): 3, ('fund', 'rate'): 3, ('economic', 'activity'): 2, ('ha', 'rising'): 2, ('rising', 'moderate'): 2, ('inflation', 'expectation'): 2, ('maximum', 'employment'): 2}\n"
     ]
    }
   ],
   "source": [
    "bigram_jan_29 = Counter(ngrams(LEM_jan_29, n=2))\n",
    "print(dict(bigram_jan_29.most_common(10)))"
   ]
  },
  {
   "cell_type": "code",
   "execution_count": null,
   "metadata": {},
   "outputs": [],
   "source": []
  }
 ],
 "metadata": {
  "kernelspec": {
   "display_name": "Python 3",
   "language": "python",
   "name": "python3"
  },
  "language_info": {
   "codemirror_mode": {
    "name": "ipython",
    "version": 3
   },
   "file_extension": ".py",
   "mimetype": "text/x-python",
   "name": "python",
   "nbconvert_exporter": "python",
   "pygments_lexer": "ipython3",
   "version": "3.7.7"
  }
 },
 "nbformat": 4,
 "nbformat_minor": 4
}
