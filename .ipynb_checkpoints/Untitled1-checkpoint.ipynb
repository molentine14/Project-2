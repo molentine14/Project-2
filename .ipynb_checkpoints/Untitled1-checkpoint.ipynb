{
 "cells": [
  {
   "cell_type": "code",
   "execution_count": 7,
   "metadata": {},
   "outputs": [],
   "source": [
    "#Import Libraries\n",
    "%matplotlib inline\n",
    "from nltk.corpus import inaugural\n",
    "from collections import Counter\n",
    "import spacy\n",
    "import pandas as pd \n",
    "\n",
    "from nltk.sentiment.vader import SentimentIntensityAnalyzer\n",
    "analyzer = SentimentIntensityAnalyzer()\n",
    "\n",
    "nlp = spacy.load(\"en_core_web_sm\")"
   ]
  },
  {
   "cell_type": "code",
   "execution_count": 13,
   "metadata": {},
   "outputs": [
    {
     "ename": "TypeError",
     "evalue": "polarity_scores() missing 1 required positional argument: 'text'",
     "output_type": "error",
     "traceback": [
      "\u001b[1;31m---------------------------------------------------------------------------\u001b[0m",
      "\u001b[1;31mTypeError\u001b[0m                                 Traceback (most recent call last)",
      "\u001b[1;32m<ipython-input-13-e40363045e8e>\u001b[0m in \u001b[0;36m<module>\u001b[1;34m\u001b[0m\n\u001b[0;32m      4\u001b[0m \u001b[0mfed_sent\u001b[0m \u001b[1;33m=\u001b[0m \u001b[0mpd\u001b[0m\u001b[1;33m.\u001b[0m\u001b[0mread_csv\u001b[0m\u001b[1;33m(\u001b[0m\u001b[1;34m\"fed_covid.csv\"\u001b[0m\u001b[1;33m)\u001b[0m\u001b[1;33m\u001b[0m\u001b[1;33m\u001b[0m\u001b[0m\n\u001b[0;32m      5\u001b[0m \u001b[0mtext\u001b[0m \u001b[1;33m=\u001b[0m \u001b[0mfed_sent\u001b[0m\u001b[1;33m\u001b[0m\u001b[1;33m\u001b[0m\u001b[0m\n\u001b[1;32m----> 6\u001b[1;33m \u001b[0msentiment\u001b[0m \u001b[1;33m=\u001b[0m \u001b[0manalyzer\u001b[0m\u001b[1;33m.\u001b[0m\u001b[0mpolarity_scores\u001b[0m\u001b[1;33m(\u001b[0m\u001b[1;33m)\u001b[0m\u001b[1;33m\u001b[0m\u001b[1;33m\u001b[0m\u001b[0m\n\u001b[0m",
      "\u001b[1;31mTypeError\u001b[0m: polarity_scores() missing 1 required positional argument: 'text'"
     ]
    }
   ],
   "source": [
    "Positives = [\"interest rate decrease\", \"purchasing\", \"bonds\", \"tools\", \"full range\", \"support\", \"The Federal Reserve is committed to use its full range of tools to support\"]\n",
    "Negatives = [\"increase rate increase\",]\n",
    "fedtext = \n",
    "fed_sent = pd.read_csv(\"fed_covid.csv\")\n",
    "sentiment = analyzer.polarity_scores()"
   ]
  },
  {
   "cell_type": "code",
   "execution_count": 15,
   "metadata": {},
   "outputs": [
    {
     "data": {
      "text/html": [
       "<div>\n",
       "<style scoped>\n",
       "    .dataframe tbody tr th:only-of-type {\n",
       "        vertical-align: middle;\n",
       "    }\n",
       "\n",
       "    .dataframe tbody tr th {\n",
       "        vertical-align: top;\n",
       "    }\n",
       "\n",
       "    .dataframe thead th {\n",
       "        text-align: right;\n",
       "    }\n",
       "</style>\n",
       "<table border=\"1\" class=\"dataframe\">\n",
       "  <thead>\n",
       "    <tr style=\"text-align: right;\">\n",
       "      <th></th>\n",
       "      <th>date</th>\n",
       "      <th>headline</th>\n",
       "      <th>release</th>\n",
       "      <th>url</th>\n",
       "      <th>text</th>\n",
       "    </tr>\n",
       "  </thead>\n",
       "  <tbody>\n",
       "    <tr>\n",
       "      <th>0</th>\n",
       "      <td>1-Jul-20</td>\n",
       "      <td>Agencies provide largest firms with informatio...</td>\n",
       "      <td>Joint Press Release</td>\n",
       "      <td>https://www.federalreserve.gov/newsevents/pres...</td>\n",
       "      <td>The Federal Deposit Insurance Corporation and ...</td>\n",
       "    </tr>\n",
       "    <tr>\n",
       "      <th>1</th>\n",
       "      <td>29-Jun-20</td>\n",
       "      <td>Federal Reserve Board releases new term sheet ...</td>\n",
       "      <td>Press Release</td>\n",
       "      <td>https://www.federalreserve.gov/newsevents/pres...</td>\n",
       "      <td>The Federal Reserve Board on Monday released a...</td>\n",
       "    </tr>\n",
       "    <tr>\n",
       "      <th>2</th>\n",
       "      <td>25-Jun-20</td>\n",
       "      <td>Federal Reserve Board releases results of stre...</td>\n",
       "      <td>Press Release</td>\n",
       "      <td>https://www.federalreserve.gov/newsevents/pres...</td>\n",
       "      <td>The Federal Reserve Board on Thursday released...</td>\n",
       "    </tr>\n",
       "    <tr>\n",
       "      <th>3</th>\n",
       "      <td>15-Jun-20</td>\n",
       "      <td>Federal Reserve Board announces it will be see...</td>\n",
       "      <td>Press Release</td>\n",
       "      <td>https://www.federalreserve.gov/newsevents/pres...</td>\n",
       "      <td>The Federal Reserve Board on Monday announced ...</td>\n",
       "    </tr>\n",
       "    <tr>\n",
       "      <th>4</th>\n",
       "      <td>15-Jun-20</td>\n",
       "      <td>Federal Reserve Board announces updates to Sec...</td>\n",
       "      <td>Press Release</td>\n",
       "      <td>https://www.federalreserve.gov/newsevents/pres...</td>\n",
       "      <td>The Federal Reserve Board on Monday announced ...</td>\n",
       "    </tr>\n",
       "  </tbody>\n",
       "</table>\n",
       "</div>"
      ],
      "text/plain": [
       "        date                                           headline  \\\n",
       "0   1-Jul-20  Agencies provide largest firms with informatio...   \n",
       "1  29-Jun-20  Federal Reserve Board releases new term sheet ...   \n",
       "2  25-Jun-20  Federal Reserve Board releases results of stre...   \n",
       "3  15-Jun-20  Federal Reserve Board announces it will be see...   \n",
       "4  15-Jun-20  Federal Reserve Board announces updates to Sec...   \n",
       "\n",
       "               release                                                url  \\\n",
       "0  Joint Press Release  https://www.federalreserve.gov/newsevents/pres...   \n",
       "1        Press Release  https://www.federalreserve.gov/newsevents/pres...   \n",
       "2        Press Release  https://www.federalreserve.gov/newsevents/pres...   \n",
       "3        Press Release  https://www.federalreserve.gov/newsevents/pres...   \n",
       "4        Press Release  https://www.federalreserve.gov/newsevents/pres...   \n",
       "\n",
       "                                                text  \n",
       "0  The Federal Deposit Insurance Corporation and ...  \n",
       "1  The Federal Reserve Board on Monday released a...  \n",
       "2  The Federal Reserve Board on Thursday released...  \n",
       "3  The Federal Reserve Board on Monday announced ...  \n",
       "4  The Federal Reserve Board on Monday announced ...  "
      ]
     },
     "execution_count": 15,
     "metadata": {},
     "output_type": "execute_result"
    }
   ],
   "source": [
    "fed_sent.head()\n"
   ]
  },
  {
   "cell_type": "code",
   "execution_count": null,
   "metadata": {},
   "outputs": [],
   "source": []
  }
 ],
 "metadata": {
  "kernelspec": {
   "display_name": "Python 3",
   "language": "python",
   "name": "python3"
  },
  "language_info": {
   "codemirror_mode": {
    "name": "ipython",
    "version": 3
   },
   "file_extension": ".py",
   "mimetype": "text/x-python",
   "name": "python",
   "nbconvert_exporter": "python",
   "pygments_lexer": "ipython3",
   "version": "3.7.6"
  }
 },
 "nbformat": 4,
 "nbformat_minor": 4
}
