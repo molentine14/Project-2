{
 "cells": [
  {
   "cell_type": "markdown",
   "metadata": {},
   "source": [
    "# Import Libraries"
   ]
  },
  {
   "cell_type": "code",
   "execution_count": 53,
   "metadata": {},
   "outputs": [],
   "source": [
    "from bs4 import BeautifulSoup\n",
    "import bs4\n",
    "import pandas as pd\n",
    "import requests"
   ]
  },
  {
   "cell_type": "markdown",
   "metadata": {},
   "source": [
    "# BEAUTIFUL SOUP"
   ]
  },
  {
   "cell_type": "markdown",
   "metadata": {},
   "source": [
    "### FOMC soup"
   ]
  },
  {
   "cell_type": "code",
   "execution_count": 54,
   "metadata": {},
   "outputs": [
    {
     "name": "stdout",
     "output_type": "stream",
     "text": [
      "<title>Federal Reserve Board - Federal Reserve issues FOMC statement</title>\n"
     ]
    }
   ],
   "source": [
    "#June 10 \n",
    "html = \"https://www.federalreserve.gov/newsevents/pressreleases/monetary20200610a.htm\"\n",
    "text = requests.get(html).text\n",
    "soup_june_10 = BeautifulSoup(text)\n",
    "print(soup_june_10.title)"
   ]
  },
  {
   "cell_type": "code",
   "execution_count": 55,
   "metadata": {},
   "outputs": [
    {
     "name": "stdout",
     "output_type": "stream",
     "text": [
      "<title>Federal Reserve Board - Federal Reserve issues FOMC statement</title>\n"
     ]
    }
   ],
   "source": [
    "# April 29\n",
    "html = \"https://www.federalreserve.gov/newsevents/pressreleases/monetary20200429a.htm\"\n",
    "text = requests.get(html).text\n",
    "soup_april_29 = BeautifulSoup(text)\n",
    "print(soup_april_29.title)"
   ]
  },
  {
   "cell_type": "code",
   "execution_count": 56,
   "metadata": {},
   "outputs": [
    {
     "name": "stdout",
     "output_type": "stream",
     "text": [
      "<title>Federal Reserve Board - Federal Reserve issues FOMC statement</title>\n"
     ]
    }
   ],
   "source": [
    "# March 23 \n",
    "html = \"https://www.federalreserve.gov/newsevents/pressreleases/monetary20200323a.htm\"\n",
    "text = requests.get(html).text\n",
    "soup_march_23 = BeautifulSoup(text)\n",
    "print(soup_march_23.title)"
   ]
  },
  {
   "cell_type": "code",
   "execution_count": 57,
   "metadata": {},
   "outputs": [
    {
     "name": "stdout",
     "output_type": "stream",
     "text": [
      "<title>Federal Reserve Board - Federal Reserve issues FOMC statement</title>\n"
     ]
    }
   ],
   "source": [
    "# March 15 \n",
    "html = \"https://www.federalreserve.gov/newsevents/pressreleases/monetary20200315a.htm\"\n",
    "text = requests.get(html).text\n",
    "soup_march_15 = BeautifulSoup(text)\n",
    "print(soup_march_15.title)"
   ]
  },
  {
   "cell_type": "code",
   "execution_count": 58,
   "metadata": {},
   "outputs": [
    {
     "name": "stdout",
     "output_type": "stream",
     "text": [
      "<title>Federal Reserve Board - Federal Reserve issues FOMC statement</title>\n"
     ]
    }
   ],
   "source": [
    "# March 3\n",
    "html = \"https://www.federalreserve.gov/newsevents/pressreleases/monetary20200303a.htm\"\n",
    "text = requests.get(html).text\n",
    "soup_march_3 = BeautifulSoup(text)\n",
    "print(soup_march_3.title)"
   ]
  },
  {
   "cell_type": "code",
   "execution_count": 59,
   "metadata": {},
   "outputs": [
    {
     "name": "stdout",
     "output_type": "stream",
     "text": [
      "<title>Federal Reserve Board - Federal Reserve issues FOMC statement</title>\n"
     ]
    }
   ],
   "source": [
    "# Jan 29 \n",
    "html = \"https://www.federalreserve.gov/newsevents/pressreleases/monetary20200129a.htm\"\n",
    "text = requests.get(html).text\n",
    "soup_jan_29 = BeautifulSoup(text)\n",
    "print(soup_jan_29.title)"
   ]
  },
  {
   "cell_type": "code",
   "execution_count": 60,
   "metadata": {},
   "outputs": [],
   "source": [
    "list_FOMC = ['soup_june_10', 'soup_april_29', 'soup_march_23', 'soup_march_15', 'soup_march_3', 'soup_jan_29']\n",
    "number_of_articles = len(list_FOMC)"
   ]
  },
  {
   "cell_type": "markdown",
   "metadata": {},
   "source": [
    "# SCRAPE"
   ]
  },
  {
   "cell_type": "code",
   "execution_count": 61,
   "metadata": {},
   "outputs": [],
   "source": [
    "date_list = []\n",
    "headline_list = []\n",
    "text_list = []"
   ]
  },
  {
   "cell_type": "markdown",
   "metadata": {},
   "source": [
    "### June 10 SCRAPE"
   ]
  },
  {
   "cell_type": "code",
   "execution_count": 76,
   "metadata": {
    "scrolled": true
   },
   "outputs": [
    {
     "name": "stdout",
     "output_type": "stream",
     "text": [
      "June 10, 2020\n",
      "Federal Reserve issues FOMC statement\n",
      "['\\nThe Federal Reserve is committed to using its full range of tools to support the U.S. economy in this challenging time, thereby promoting its maximum employment and price stability goals.\\nThe coronavirus outbreak is causing tremendous human and economic hardship across the United States and around the world. The virus and the measures taken to protect public health have induced sharp declines in economic activity and a surge in job losses. Weaker demand and significantly lower oil prices are holding down consumer price inflation. Financial conditions have improved, in part reflecting policy measures to support the economy and the flow of credit to U.S. households and businesses.\\nThe ongoing public health crisis will weigh heavily on economic activity, employment, and inflation in the near term, and poses considerable risks to the economic outlook over the medium term. In light of these developments, the Committee decided to maintain the target range for the federal funds rate at 0 to 1/4 percent. The Committee expects to maintain this target range until it is confident that the economy has weathered recent events and is on track to achieve its maximum employment and price stability goals.\\nThe Committee will continue to monitor the implications of incoming information for the economic outlook, including information related to public health, as well as global developments and muted inflation pressures, and will use its tools and act as appropriate to support the economy. In determining the timing and size of future adjustments to the stance of monetary policy, the Committee will assess realized and expected economic conditions relative to its maximum employment objective and its symmetric 2 percent inflation objective. This assessment will take into account a wide range of information, including measures of labor market conditions, indicators of inflation pressures and inflation expectations, and readings on financial and international developments.\\nTo support the flow of credit to households and businesses, over coming months the Federal Reserve will increase its holdings of Treasury securities and agency residential and commercial mortgage-backed securities at least at the current pace to sustain smooth market functioning, thereby fostering effective transmission of monetary policy to broader financial conditions. In addition, the Open Market Desk will continue to offer large-scale overnight and term repurchase agreement operations. The Committee will closely monitor developments and is prepared to adjust its plans as appropriate.\\nVoting for the monetary policy action were Jerome H. Powell, Chair; John C. Williams, Vice Chair; Michelle W. Bowman; Lael Brainard; Richard H. Clarida; Patrick Harker; Robert S. Kaplan; Neel Kashkari; Loretta J. Mester; and Randal K. Quarles.\\nImplementation Note issued June 10, 2020\\n', '\\nThe Federal Reserve is committed to using its full range of tools to support the U.S. economy in this challenging time, thereby promoting its maximum employment and price stability goals.\\nThe coronavirus outbreak is causing tremendous human and economic hardship across the United States and around the world. The virus and the measures taken to protect public health have induced sharp declines in economic activity and a surge in job losses. Weaker demand and significantly lower oil prices are holding down consumer price inflation. Financial conditions have improved, in part reflecting policy measures to support the economy and the flow of credit to U.S. households and businesses.\\nThe ongoing public health crisis will weigh heavily on economic activity, employment, and inflation in the near term, and poses considerable risks to the economic outlook over the medium term. In light of these developments, the Committee decided to maintain the target range for the federal funds rate at 0 to 1/4 percent. The Committee expects to maintain this target range until it is confident that the economy has weathered recent events and is on track to achieve its maximum employment and price stability goals.\\nThe Committee will continue to monitor the implications of incoming information for the economic outlook, including information related to public health, as well as global developments and muted inflation pressures, and will use its tools and act as appropriate to support the economy. In determining the timing and size of future adjustments to the stance of monetary policy, the Committee will assess realized and expected economic conditions relative to its maximum employment objective and its symmetric 2 percent inflation objective. This assessment will take into account a wide range of information, including measures of labor market conditions, indicators of inflation pressures and inflation expectations, and readings on financial and international developments.\\nTo support the flow of credit to households and businesses, over coming months the Federal Reserve will increase its holdings of Treasury securities and agency residential and commercial mortgage-backed securities at least at the current pace to sustain smooth market functioning, thereby fostering effective transmission of monetary policy to broader financial conditions. In addition, the Open Market Desk will continue to offer large-scale overnight and term repurchase agreement operations. The Committee will closely monitor developments and is prepared to adjust its plans as appropriate.\\nVoting for the monetary policy action were Jerome H. Powell, Chair; John C. Williams, Vice Chair; Michelle W. Bowman; Lael Brainard; Richard H. Clarida; Patrick Harker; Robert S. Kaplan; Neel Kashkari; Loretta J. Mester; and Randal K. Quarles.\\nImplementation Note issued June 10, 2020\\n', '\\nThe Federal Reserve is committed to using its full range of tools to support the U.S. economy in this challenging time, thereby promoting its maximum employment and price stability goals.\\nThe coronavirus outbreak is causing tremendous human and economic hardship across the United States and around the world. The virus and the measures taken to protect public health have induced sharp declines in economic activity and a surge in job losses. Weaker demand and significantly lower oil prices are holding down consumer price inflation. Financial conditions have improved, in part reflecting policy measures to support the economy and the flow of credit to U.S. households and businesses.\\nThe ongoing public health crisis will weigh heavily on economic activity, employment, and inflation in the near term, and poses considerable risks to the economic outlook over the medium term. In light of these developments, the Committee decided to maintain the target range for the federal funds rate at 0 to 1/4 percent. The Committee expects to maintain this target range until it is confident that the economy has weathered recent events and is on track to achieve its maximum employment and price stability goals.\\nThe Committee will continue to monitor the implications of incoming information for the economic outlook, including information related to public health, as well as global developments and muted inflation pressures, and will use its tools and act as appropriate to support the economy. In determining the timing and size of future adjustments to the stance of monetary policy, the Committee will assess realized and expected economic conditions relative to its maximum employment objective and its symmetric 2 percent inflation objective. This assessment will take into account a wide range of information, including measures of labor market conditions, indicators of inflation pressures and inflation expectations, and readings on financial and international developments.\\nTo support the flow of credit to households and businesses, over coming months the Federal Reserve will increase its holdings of Treasury securities and agency residential and commercial mortgage-backed securities at least at the current pace to sustain smooth market functioning, thereby fostering effective transmission of monetary policy to broader financial conditions. In addition, the Open Market Desk will continue to offer large-scale overnight and term repurchase agreement operations. The Committee will closely monitor developments and is prepared to adjust its plans as appropriate.\\nVoting for the monetary policy action were Jerome H. Powell, Chair; John C. Williams, Vice Chair; Michelle W. Bowman; Lael Brainard; Richard H. Clarida; Patrick Harker; Robert S. Kaplan; Neel Kashkari; Loretta J. Mester; and Randal K. Quarles.\\nImplementation Note issued June 10, 2020\\n', '\\nThe Federal Reserve is committed to using its full range of tools to support the U.S. economy in this challenging time, thereby promoting its maximum employment and price stability goals.\\nThe coronavirus outbreak is causing tremendous human and economic hardship across the United States and around the world. The virus and the measures taken to protect public health have induced sharp declines in economic activity and a surge in job losses. Weaker demand and significantly lower oil prices are holding down consumer price inflation. Financial conditions have improved, in part reflecting policy measures to support the economy and the flow of credit to U.S. households and businesses.\\nThe ongoing public health crisis will weigh heavily on economic activity, employment, and inflation in the near term, and poses considerable risks to the economic outlook over the medium term. In light of these developments, the Committee decided to maintain the target range for the federal funds rate at 0 to 1/4 percent. The Committee expects to maintain this target range until it is confident that the economy has weathered recent events and is on track to achieve its maximum employment and price stability goals.\\nThe Committee will continue to monitor the implications of incoming information for the economic outlook, including information related to public health, as well as global developments and muted inflation pressures, and will use its tools and act as appropriate to support the economy. In determining the timing and size of future adjustments to the stance of monetary policy, the Committee will assess realized and expected economic conditions relative to its maximum employment objective and its symmetric 2 percent inflation objective. This assessment will take into account a wide range of information, including measures of labor market conditions, indicators of inflation pressures and inflation expectations, and readings on financial and international developments.\\nTo support the flow of credit to households and businesses, over coming months the Federal Reserve will increase its holdings of Treasury securities and agency residential and commercial mortgage-backed securities at least at the current pace to sustain smooth market functioning, thereby fostering effective transmission of monetary policy to broader financial conditions. In addition, the Open Market Desk will continue to offer large-scale overnight and term repurchase agreement operations. The Committee will closely monitor developments and is prepared to adjust its plans as appropriate.\\nVoting for the monetary policy action were Jerome H. Powell, Chair; John C. Williams, Vice Chair; Michelle W. Bowman; Lael Brainard; Richard H. Clarida; Patrick Harker; Robert S. Kaplan; Neel Kashkari; Loretta J. Mester; and Randal K. Quarles.\\nImplementation Note issued June 10, 2020\\n', '\\nThe Federal Reserve is committed to using its full range of tools to support the U.S. economy in this challenging time, thereby promoting its maximum employment and price stability goals.\\nThe coronavirus outbreak is causing tremendous human and economic hardship across the United States and around the world. The virus and the measures taken to protect public health have induced sharp declines in economic activity and a surge in job losses. Weaker demand and significantly lower oil prices are holding down consumer price inflation. Financial conditions have improved, in part reflecting policy measures to support the economy and the flow of credit to U.S. households and businesses.\\nThe ongoing public health crisis will weigh heavily on economic activity, employment, and inflation in the near term, and poses considerable risks to the economic outlook over the medium term. In light of these developments, the Committee decided to maintain the target range for the federal funds rate at 0 to 1/4 percent. The Committee expects to maintain this target range until it is confident that the economy has weathered recent events and is on track to achieve its maximum employment and price stability goals.\\nThe Committee will continue to monitor the implications of incoming information for the economic outlook, including information related to public health, as well as global developments and muted inflation pressures, and will use its tools and act as appropriate to support the economy. In determining the timing and size of future adjustments to the stance of monetary policy, the Committee will assess realized and expected economic conditions relative to its maximum employment objective and its symmetric 2 percent inflation objective. This assessment will take into account a wide range of information, including measures of labor market conditions, indicators of inflation pressures and inflation expectations, and readings on financial and international developments.\\nTo support the flow of credit to households and businesses, over coming months the Federal Reserve will increase its holdings of Treasury securities and agency residential and commercial mortgage-backed securities at least at the current pace to sustain smooth market functioning, thereby fostering effective transmission of monetary policy to broader financial conditions. In addition, the Open Market Desk will continue to offer large-scale overnight and term repurchase agreement operations. The Committee will closely monitor developments and is prepared to adjust its plans as appropriate.\\nVoting for the monetary policy action were Jerome H. Powell, Chair; John C. Williams, Vice Chair; Michelle W. Bowman; Lael Brainard; Richard H. Clarida; Patrick Harker; Robert S. Kaplan; Neel Kashkari; Loretta J. Mester; and Randal K. Quarles.\\nImplementation Note issued June 10, 2020\\n', '\\nThe Federal Reserve is committed to using its full range of tools to support the U.S. economy in this challenging time, thereby promoting its maximum employment and price stability goals.\\nThe coronavirus outbreak is causing tremendous human and economic hardship across the United States and around the world. The virus and the measures taken to protect public health have induced sharp declines in economic activity and a surge in job losses. Weaker demand and significantly lower oil prices are holding down consumer price inflation. Financial conditions have improved, in part reflecting policy measures to support the economy and the flow of credit to U.S. households and businesses.\\nThe ongoing public health crisis will weigh heavily on economic activity, employment, and inflation in the near term, and poses considerable risks to the economic outlook over the medium term. In light of these developments, the Committee decided to maintain the target range for the federal funds rate at 0 to 1/4 percent. The Committee expects to maintain this target range until it is confident that the economy has weathered recent events and is on track to achieve its maximum employment and price stability goals.\\nThe Committee will continue to monitor the implications of incoming information for the economic outlook, including information related to public health, as well as global developments and muted inflation pressures, and will use its tools and act as appropriate to support the economy. In determining the timing and size of future adjustments to the stance of monetary policy, the Committee will assess realized and expected economic conditions relative to its maximum employment objective and its symmetric 2 percent inflation objective. This assessment will take into account a wide range of information, including measures of labor market conditions, indicators of inflation pressures and inflation expectations, and readings on financial and international developments.\\nTo support the flow of credit to households and businesses, over coming months the Federal Reserve will increase its holdings of Treasury securities and agency residential and commercial mortgage-backed securities at least at the current pace to sustain smooth market functioning, thereby fostering effective transmission of monetary policy to broader financial conditions. In addition, the Open Market Desk will continue to offer large-scale overnight and term repurchase agreement operations. The Committee will closely monitor developments and is prepared to adjust its plans as appropriate.\\nVoting for the monetary policy action were Jerome H. Powell, Chair; John C. Williams, Vice Chair; Michelle W. Bowman; Lael Brainard; Richard H. Clarida; Patrick Harker; Robert S. Kaplan; Neel Kashkari; Loretta J. Mester; and Randal K. Quarles.\\nImplementation Note issued June 10, 2020\\n', '\\nThe Federal Reserve is committed to using its full range of tools to support the U.S. economy in this challenging time, thereby promoting its maximum employment and price stability goals.\\nThe coronavirus outbreak is causing tremendous human and economic hardship across the United States and around the world. The virus and the measures taken to protect public health have induced sharp declines in economic activity and a surge in job losses. Weaker demand and significantly lower oil prices are holding down consumer price inflation. Financial conditions have improved, in part reflecting policy measures to support the economy and the flow of credit to U.S. households and businesses.\\nThe ongoing public health crisis will weigh heavily on economic activity, employment, and inflation in the near term, and poses considerable risks to the economic outlook over the medium term. In light of these developments, the Committee decided to maintain the target range for the federal funds rate at 0 to 1/4 percent. The Committee expects to maintain this target range until it is confident that the economy has weathered recent events and is on track to achieve its maximum employment and price stability goals.\\nThe Committee will continue to monitor the implications of incoming information for the economic outlook, including information related to public health, as well as global developments and muted inflation pressures, and will use its tools and act as appropriate to support the economy. In determining the timing and size of future adjustments to the stance of monetary policy, the Committee will assess realized and expected economic conditions relative to its maximum employment objective and its symmetric 2 percent inflation objective. This assessment will take into account a wide range of information, including measures of labor market conditions, indicators of inflation pressures and inflation expectations, and readings on financial and international developments.\\nTo support the flow of credit to households and businesses, over coming months the Federal Reserve will increase its holdings of Treasury securities and agency residential and commercial mortgage-backed securities at least at the current pace to sustain smooth market functioning, thereby fostering effective transmission of monetary policy to broader financial conditions. In addition, the Open Market Desk will continue to offer large-scale overnight and term repurchase agreement operations. The Committee will closely monitor developments and is prepared to adjust its plans as appropriate.\\nVoting for the monetary policy action were Jerome H. Powell, Chair; John C. Williams, Vice Chair; Michelle W. Bowman; Lael Brainard; Richard H. Clarida; Patrick Harker; Robert S. Kaplan; Neel Kashkari; Loretta J. Mester; and Randal K. Quarles.\\nImplementation Note issued June 10, 2020\\n', '\\nThe Federal Reserve is committed to using its full range of tools to support the U.S. economy in this challenging time, thereby promoting its maximum employment and price stability goals.\\nThe coronavirus outbreak is causing tremendous human and economic hardship across the United States and around the world. The virus and the measures taken to protect public health have induced sharp declines in economic activity and a surge in job losses. Weaker demand and significantly lower oil prices are holding down consumer price inflation. Financial conditions have improved, in part reflecting policy measures to support the economy and the flow of credit to U.S. households and businesses.\\nThe ongoing public health crisis will weigh heavily on economic activity, employment, and inflation in the near term, and poses considerable risks to the economic outlook over the medium term. In light of these developments, the Committee decided to maintain the target range for the federal funds rate at 0 to 1/4 percent. The Committee expects to maintain this target range until it is confident that the economy has weathered recent events and is on track to achieve its maximum employment and price stability goals.\\nThe Committee will continue to monitor the implications of incoming information for the economic outlook, including information related to public health, as well as global developments and muted inflation pressures, and will use its tools and act as appropriate to support the economy. In determining the timing and size of future adjustments to the stance of monetary policy, the Committee will assess realized and expected economic conditions relative to its maximum employment objective and its symmetric 2 percent inflation objective. This assessment will take into account a wide range of information, including measures of labor market conditions, indicators of inflation pressures and inflation expectations, and readings on financial and international developments.\\nTo support the flow of credit to households and businesses, over coming months the Federal Reserve will increase its holdings of Treasury securities and agency residential and commercial mortgage-backed securities at least at the current pace to sustain smooth market functioning, thereby fostering effective transmission of monetary policy to broader financial conditions. In addition, the Open Market Desk will continue to offer large-scale overnight and term repurchase agreement operations. The Committee will closely monitor developments and is prepared to adjust its plans as appropriate.\\nVoting for the monetary policy action were Jerome H. Powell, Chair; John C. Williams, Vice Chair; Michelle W. Bowman; Lael Brainard; Richard H. Clarida; Patrick Harker; Robert S. Kaplan; Neel Kashkari; Loretta J. Mester; and Randal K. Quarles.\\nImplementation Note issued June 10, 2020\\n', '\\nThe Federal Reserve is committed to using its full range of tools to support the U.S. economy in this challenging time, thereby promoting its maximum employment and price stability goals.\\nThe coronavirus outbreak is causing tremendous human and economic hardship across the United States and around the world. The virus and the measures taken to protect public health have induced sharp declines in economic activity and a surge in job losses. Weaker demand and significantly lower oil prices are holding down consumer price inflation. Financial conditions have improved, in part reflecting policy measures to support the economy and the flow of credit to U.S. households and businesses.\\nThe ongoing public health crisis will weigh heavily on economic activity, employment, and inflation in the near term, and poses considerable risks to the economic outlook over the medium term. In light of these developments, the Committee decided to maintain the target range for the federal funds rate at 0 to 1/4 percent. The Committee expects to maintain this target range until it is confident that the economy has weathered recent events and is on track to achieve its maximum employment and price stability goals.\\nThe Committee will continue to monitor the implications of incoming information for the economic outlook, including information related to public health, as well as global developments and muted inflation pressures, and will use its tools and act as appropriate to support the economy. In determining the timing and size of future adjustments to the stance of monetary policy, the Committee will assess realized and expected economic conditions relative to its maximum employment objective and its symmetric 2 percent inflation objective. This assessment will take into account a wide range of information, including measures of labor market conditions, indicators of inflation pressures and inflation expectations, and readings on financial and international developments.\\nTo support the flow of credit to households and businesses, over coming months the Federal Reserve will increase its holdings of Treasury securities and agency residential and commercial mortgage-backed securities at least at the current pace to sustain smooth market functioning, thereby fostering effective transmission of monetary policy to broader financial conditions. In addition, the Open Market Desk will continue to offer large-scale overnight and term repurchase agreement operations. The Committee will closely monitor developments and is prepared to adjust its plans as appropriate.\\nVoting for the monetary policy action were Jerome H. Powell, Chair; John C. Williams, Vice Chair; Michelle W. Bowman; Lael Brainard; Richard H. Clarida; Patrick Harker; Robert S. Kaplan; Neel Kashkari; Loretta J. Mester; and Randal K. Quarles.\\nImplementation Note issued June 10, 2020\\n', '\\nThe Federal Reserve is committed to using its full range of tools to support the U.S. economy in this challenging time, thereby promoting its maximum employment and price stability goals.\\nThe coronavirus outbreak is causing tremendous human and economic hardship across the United States and around the world. The virus and the measures taken to protect public health have induced sharp declines in economic activity and a surge in job losses. Weaker demand and significantly lower oil prices are holding down consumer price inflation. Financial conditions have improved, in part reflecting policy measures to support the economy and the flow of credit to U.S. households and businesses.\\nThe ongoing public health crisis will weigh heavily on economic activity, employment, and inflation in the near term, and poses considerable risks to the economic outlook over the medium term. In light of these developments, the Committee decided to maintain the target range for the federal funds rate at 0 to 1/4 percent. The Committee expects to maintain this target range until it is confident that the economy has weathered recent events and is on track to achieve its maximum employment and price stability goals.\\nThe Committee will continue to monitor the implications of incoming information for the economic outlook, including information related to public health, as well as global developments and muted inflation pressures, and will use its tools and act as appropriate to support the economy. In determining the timing and size of future adjustments to the stance of monetary policy, the Committee will assess realized and expected economic conditions relative to its maximum employment objective and its symmetric 2 percent inflation objective. This assessment will take into account a wide range of information, including measures of labor market conditions, indicators of inflation pressures and inflation expectations, and readings on financial and international developments.\\nTo support the flow of credit to households and businesses, over coming months the Federal Reserve will increase its holdings of Treasury securities and agency residential and commercial mortgage-backed securities at least at the current pace to sustain smooth market functioning, thereby fostering effective transmission of monetary policy to broader financial conditions. In addition, the Open Market Desk will continue to offer large-scale overnight and term repurchase agreement operations. The Committee will closely monitor developments and is prepared to adjust its plans as appropriate.\\nVoting for the monetary policy action were Jerome H. Powell, Chair; John C. Williams, Vice Chair; Michelle W. Bowman; Lael Brainard; Richard H. Clarida; Patrick Harker; Robert S. Kaplan; Neel Kashkari; Loretta J. Mester; and Randal K. Quarles.\\nImplementation Note issued June 10, 2020\\n']\n"
     ]
    }
   ],
   "source": [
    "# JUNE 10\n",
    "article = soup_june_10\n",
    "for link in article.find_all(\"p\", class_=\"article__time\"):\n",
    "        date = link.find(text=True)\n",
    "        date_list.append(date)\n",
    "        print(date)\n",
    "for link in article.find_all(\"h3\", class_=\"title\"):\n",
    "        headline = link.find(text=True)\n",
    "        headline_list.append(headline)\n",
    "        print(headline)\n",
    "body = article.find_all(\"div\", class_=\"col-xs-12 col-sm-8 col-md-8\")\n",
    "list_paragraphs = []\n",
    "for p in np.arange(0, len(body)):\n",
    "    paragraph = body[p].get_text()\n",
    "    list_paragraphs.append(paragraph)\n",
    "    final_article = \" \".join(list_paragraphs)\n",
    "    \n",
    "    final_article = re.sub(\"\\\\xa0\", \"\", final_article)\n",
    "    \n",
    "    text_list.append(final_article)\n",
    "    \n",
    "    print(text_list)\n"
   ]
  },
  {
   "cell_type": "markdown",
   "metadata": {},
   "source": [
    "### April 29 SCRAPE"
   ]
  },
  {
   "cell_type": "code",
   "execution_count": 29,
   "metadata": {
    "scrolled": true
   },
   "outputs": [
    {
     "name": "stdout",
     "output_type": "stream",
     "text": [
      "April 29, 2020\n",
      "Federal Reserve issues FOMC statement\n",
      "['\\nThe Federal Reserve is committed to using its full range of tools to support the U.S. economy in this challenging time, thereby promoting its maximum employment and price stability goals.\\nThe coronavirus outbreak is causing tremendous human and economic hardship across the United States and around the world. The virus and the measures taken to protect public health have induced sharp declines in economic activity and a surge in job losses. Weaker demand and significantly lower oil prices are holding down consumer price inflation. Financial conditions have improved, in part reflecting policy measures to support the economy and the flow of credit to U.S. households and businesses.\\nThe ongoing public health crisis will weigh heavily on economic activity, employment, and inflation in the near term, and poses considerable risks to the economic outlook over the medium term. In light of these developments, the Committee decided to maintain the target range for the federal funds rate at 0 to 1/4 percent. The Committee expects to maintain this target range until it is confident that the economy has weathered recent events and is on track to achieve its maximum employment and price stability goals.\\nThe Committee will continue to monitor the implications of incoming information for the economic outlook, including information related to public health, as well as global developments and muted inflation pressures, and will use its tools and act as appropriate to support the economy. In determining the timing and size of future adjustments to the stance of monetary policy, the Committee will assess realized and expected economic conditions relative to its maximum employment objective and its symmetric 2 percent inflation objective. This assessment will take into account a wide range of information, including measures of labor market conditions, indicators of inflation pressures and inflation expectations, and readings on financial and international developments.\\nTo support the flow of credit to households and businesses, over coming months the Federal Reserve will increase its holdings of Treasury securities and agency residential and commercial mortgage-backed securities at least at the current pace to sustain smooth market functioning, thereby fostering effective transmission of monetary policy to broader financial conditions. In addition, the Open Market Desk will continue to offer large-scale overnight and term repurchase agreement operations. The Committee will closely monitor developments and is prepared to adjust its plans as appropriate.\\nVoting for the monetary policy action were Jerome H. Powell, Chair; John C. Williams, Vice Chair; Michelle W. Bowman; Lael Brainard; Richard H. Clarida; Patrick Harker; Robert S. Kaplan; Neel Kashkari; Loretta J. Mester; and Randal K. Quarles.\\nImplementation Note issued June 10, 2020\\n', '\\nThe Federal Reserve is committed to using its full range of tools to support the U.S. economy in this challenging time, thereby promoting its maximum employment and price stability goals.\\nThe coronavirus outbreak is causing tremendous human and economic hardship across the United States and around the world. The virus and the measures taken to protect public health are inducing sharp declines in economic activity and a surge in job losses. Weaker demand and significantly lower oil prices are holding down consumer price inflation. The disruptions to economic activity here and abroad have significantly affected financial conditions and have impaired the flow of credit to U.S. households and businesses.\\nThe ongoing public health crisis will weigh heavily on economic activity, employment, and inflation in the near term, and poses considerable risks to the economic outlook over the medium term. In light of these developments, the Committee decided to maintain the target range for the federal funds rate at 0 to 1/4 percent. The Committee expects to maintain this target range until it is confident that the economy has weathered recent events and is on track to achieve its maximum employment and price stability goals.\\nThe Committee will continue to monitor the implications of incoming information for the economic outlook, including information related to public health, as well as global developments and muted inflation pressures, and will use its tools and act as appropriate to support the economy. In determining the timing and size of future adjustments to the stance of monetary policy, the Committee will assess realized and expected economic conditions relative to its maximum employment objective and its symmetric 2 percent inflation objective. This assessment will take into account a wide range of information, including measures of labor market conditions, indicators of inflation pressures and inflation expectations, and readings on financial and international developments.\\nTo support the flow of credit to households and businesses, the Federal Reserve will continue to purchase Treasury securities and agency residential and commercial mortgage-backed securities in the amounts needed to support smooth market functioning, thereby fostering effective transmission of monetary policy to broader financial conditions. In addition, the Open Market Desk will continue to offer large-scale overnight and term repurchase agreement operations. The Committee will closely monitor market conditions and is prepared to adjust its plans as appropriate.\\nVoting for the monetary policy action were Jerome H. Powell, Chair; John C. Williams, Vice Chair; Michelle W. Bowman; Lael Brainard; Richard H. Clarida; Patrick Harker; Robert S. Kaplan; Neel Kashkari; Loretta J. Mester; and Randal K. Quarles.\\nImplementation Note issued April 29, 2020\\n']\n"
     ]
    }
   ],
   "source": [
    "article = soup_april_29\n",
    "for link in article.find_all(\"p\", class_=\"article__time\"):\n",
    "        date = link.find(text=True)\n",
    "        date_list.append(date)\n",
    "        print(date)\n",
    "for link in article.find_all(\"h3\", class_=\"title\"):\n",
    "        headline = link.find(text=True)\n",
    "        headline_list.append(headline)\n",
    "        print(headline)\n",
    "body = article.find_all(\"div\", class_=\"col-xs-12 col-sm-8 col-md-8\")\n",
    "list_paragraphs = []\n",
    "for p in np.arange(0, len(body)):\n",
    "    paragraph = body[p].get_text()\n",
    "    list_paragraphs.append(paragraph)\n",
    "    final_article = \" \".join(list_paragraphs)\n",
    "    \n",
    "    final_article = re.sub(\"\\xa0\", \"\", final_article)\n",
    "    final_article.format(text=True)\n",
    "    \n",
    "    text_list.append(final_article)\n",
    "    \n",
    "    print(text_list)"
   ]
  },
  {
   "cell_type": "markdown",
   "metadata": {},
   "source": [
    "### March 23 SCRAPE"
   ]
  },
  {
   "cell_type": "code",
   "execution_count": 30,
   "metadata": {
    "scrolled": true
   },
   "outputs": [
    {
     "name": "stdout",
     "output_type": "stream",
     "text": [
      "March 23, 2020\n",
      "Federal Reserve issues FOMC statement\n",
      "['\\nThe Federal Reserve is committed to using its full range of tools to support the U.S. economy in this challenging time, thereby promoting its maximum employment and price stability goals.\\nThe coronavirus outbreak is causing tremendous human and economic hardship across the United States and around the world. The virus and the measures taken to protect public health have induced sharp declines in economic activity and a surge in job losses. Weaker demand and significantly lower oil prices are holding down consumer price inflation. Financial conditions have improved, in part reflecting policy measures to support the economy and the flow of credit to U.S. households and businesses.\\nThe ongoing public health crisis will weigh heavily on economic activity, employment, and inflation in the near term, and poses considerable risks to the economic outlook over the medium term. In light of these developments, the Committee decided to maintain the target range for the federal funds rate at 0 to 1/4 percent. The Committee expects to maintain this target range until it is confident that the economy has weathered recent events and is on track to achieve its maximum employment and price stability goals.\\nThe Committee will continue to monitor the implications of incoming information for the economic outlook, including information related to public health, as well as global developments and muted inflation pressures, and will use its tools and act as appropriate to support the economy. In determining the timing and size of future adjustments to the stance of monetary policy, the Committee will assess realized and expected economic conditions relative to its maximum employment objective and its symmetric 2 percent inflation objective. This assessment will take into account a wide range of information, including measures of labor market conditions, indicators of inflation pressures and inflation expectations, and readings on financial and international developments.\\nTo support the flow of credit to households and businesses, over coming months the Federal Reserve will increase its holdings of Treasury securities and agency residential and commercial mortgage-backed securities at least at the current pace to sustain smooth market functioning, thereby fostering effective transmission of monetary policy to broader financial conditions. In addition, the Open Market Desk will continue to offer large-scale overnight and term repurchase agreement operations. The Committee will closely monitor developments and is prepared to adjust its plans as appropriate.\\nVoting for the monetary policy action were Jerome H. Powell, Chair; John C. Williams, Vice Chair; Michelle W. Bowman; Lael Brainard; Richard H. Clarida; Patrick Harker; Robert S. Kaplan; Neel Kashkari; Loretta J. Mester; and Randal K. Quarles.\\nImplementation Note issued June 10, 2020\\n', '\\nThe Federal Reserve is committed to using its full range of tools to support the U.S. economy in this challenging time, thereby promoting its maximum employment and price stability goals.\\nThe coronavirus outbreak is causing tremendous human and economic hardship across the United States and around the world. The virus and the measures taken to protect public health are inducing sharp declines in economic activity and a surge in job losses. Weaker demand and significantly lower oil prices are holding down consumer price inflation. The disruptions to economic activity here and abroad have significantly affected financial conditions and have impaired the flow of credit to U.S. households and businesses.\\nThe ongoing public health crisis will weigh heavily on economic activity, employment, and inflation in the near term, and poses considerable risks to the economic outlook over the medium term. In light of these developments, the Committee decided to maintain the target range for the federal funds rate at 0 to 1/4 percent. The Committee expects to maintain this target range until it is confident that the economy has weathered recent events and is on track to achieve its maximum employment and price stability goals.\\nThe Committee will continue to monitor the implications of incoming information for the economic outlook, including information related to public health, as well as global developments and muted inflation pressures, and will use its tools and act as appropriate to support the economy. In determining the timing and size of future adjustments to the stance of monetary policy, the Committee will assess realized and expected economic conditions relative to its maximum employment objective and its symmetric 2 percent inflation objective. This assessment will take into account a wide range of information, including measures of labor market conditions, indicators of inflation pressures and inflation expectations, and readings on financial and international developments.\\nTo support the flow of credit to households and businesses, the Federal Reserve will continue to purchase Treasury securities and agency residential and commercial mortgage-backed securities in the amounts needed to support smooth market functioning, thereby fostering effective transmission of monetary policy to broader financial conditions. In addition, the Open Market Desk will continue to offer large-scale overnight and term repurchase agreement operations. The Committee will closely monitor market conditions and is prepared to adjust its plans as appropriate.\\nVoting for the monetary policy action were Jerome H. Powell, Chair; John C. Williams, Vice Chair; Michelle W. Bowman; Lael Brainard; Richard H. Clarida; Patrick Harker; Robert S. Kaplan; Neel Kashkari; Loretta J. Mester; and Randal K. Quarles.\\nImplementation Note issued April 29, 2020\\n', '\\nThe Federal Reserve is committed to use its full range of tools to support the U.S. economy in this challenging time and thereby promote its maximum employment and price stability goals.\\nThe Federal Open Market Committee is taking further actions to support the flow of credit to households and businesses by addressing strains in the markets for Treasury securities and agency mortgage-backed securities. The Federal Reserve will continue to purchase Treasury securities and agency mortgage-backed securities in the amounts needed to support smooth market functioning and effective transmission of monetary policy to broader financial conditions. The Committee will include purchases of agency commercial mortgage-backed securities in its agency mortgage-backed security purchases. In addition, the Open Market Desk will continue to offer large-scale overnight and term repurchase agreement operations. The Committee will continue to closely monitor market conditions, and will assess the appropriate pace of its securities purchases at future meetings.\\nVoting (by notation) for the monetary policy action were Jerome H. Powell, Chair; John C. Williams, Vice Chair; Michelle W. Bowman; Lael Brainard; Richard H. Clarida; Patrick Harker; Robert S. Kaplan; Neel Kashkari; Loretta J. Mester; and Randal K. Quarles.\\nIn a related set of actions, the Federal Reserve announced additional measures to support the flow of credit to households and businesses. More information can be found on the Federal Reserve Board\\'s website.\\nIn connection with these plans, the Committee voted unanimously to authorize and direct the Federal Reserve Bank of New York, until instructed otherwise, to execute transactions in the System Open Market Account in accordance with the following domestic policy directive:\\n\\n\"Effective March 23, 2020, the Federal Open Market Committee directs the Desk to undertake open market operations as necessary to maintain the federal funds rate in a target range of 0 to 1/4 percent. The Committee directs the Desk to increase the System Open Market Account holdings of Treasury securities and agency mortgage-backed securities (MBS) in the amounts needed to support the smooth functioning of markets for Treasury securities and agency MBS. The Committee also directs the Desk to include purchases of agency commercial mortgage-backed securities in its agency mortgage-backed security purchases.\\nThe Committee also directs the Desk to continue conducting term and overnight repurchase agreement operations to ensure that the supply of reserves remains ample and to support the smooth functioning of short-term U.S. dollar funding markets. In addition, the Committee directs the Desk to conduct overnight reverse repurchase operations (and reverse repurchase operations with maturities of more than one day when necessary to accommodate weekend, holiday, or similar trading conventions) at an offering rate of 0.00 percent, in amounts limited only by the value of Treasury securities held outright in the System Open Market Account that are available for such operations and by a per-counterparty limit of $30 billion per day.\\nThe Committee directs the Desk to continue rolling over at auction all principal payments from the Federal Reserve\\'s holdings of Treasury securities and to reinvest all principal payments from the Federal Reserve\\'s holdings of agency debt and agency mortgage-backed securities received during each calendar month in agency mortgage-backed securities. Small deviations from these amounts for operational reasons are acceptable.\\nThe Committee also directs the Desk to engage in dollar roll and coupon swap transactions as necessary to facilitate settlement of the Federal Reserve\\'s agency mortgage-backed securities transactions.\"\\n\\nMore information regarding open market operations and reinvestments may be found on the Federal Reserve Bank of New York\\'s website.\\nFor media inquiries, call 202-452-2955.\\n\\n\\n\\nFederal Reserve announces extensive new measures to support the economy\\n\\n\\n\\n']\n"
     ]
    }
   ],
   "source": [
    "article = soup_march_23\n",
    "for link in article.find_all(\"p\", class_=\"article__time\"):\n",
    "        date = link.find(text=True)\n",
    "        date_list.append(date)\n",
    "        print(date)\n",
    "for link in article.find_all(\"h3\", class_=\"title\"):\n",
    "        headline = link.find(text=True)\n",
    "        headline_list.append(headline)\n",
    "        print(headline)\n",
    "body = article.find_all(\"div\", class_=\"col-xs-12 col-sm-8 col-md-8\")\n",
    "list_paragraphs = []\n",
    "for p in np.arange(0, len(body)):\n",
    "    paragraph = body[p].get_text()\n",
    "    list_paragraphs.append(paragraph)\n",
    "    final_article = \" \".join(list_paragraphs)\n",
    "    \n",
    "    final_article = re.sub(\"\\\\xa0\", \"\", final_article)\n",
    "    final_article.format(text=True)\n",
    "    \n",
    "    text_list.append(final_article)\n",
    "    \n",
    "    print(text_list)  \n",
    "        "
   ]
  },
  {
   "cell_type": "markdown",
   "metadata": {},
   "source": [
    "### March 15 SCRAPE"
   ]
  },
  {
   "cell_type": "code",
   "execution_count": 31,
   "metadata": {
    "scrolled": true
   },
   "outputs": [
    {
     "name": "stdout",
     "output_type": "stream",
     "text": [
      "March 15, 2020\n",
      "Federal Reserve issues FOMC statement\n",
      "['\\nThe Federal Reserve is committed to using its full range of tools to support the U.S. economy in this challenging time, thereby promoting its maximum employment and price stability goals.\\nThe coronavirus outbreak is causing tremendous human and economic hardship across the United States and around the world. The virus and the measures taken to protect public health have induced sharp declines in economic activity and a surge in job losses. Weaker demand and significantly lower oil prices are holding down consumer price inflation. Financial conditions have improved, in part reflecting policy measures to support the economy and the flow of credit to U.S. households and businesses.\\nThe ongoing public health crisis will weigh heavily on economic activity, employment, and inflation in the near term, and poses considerable risks to the economic outlook over the medium term. In light of these developments, the Committee decided to maintain the target range for the federal funds rate at 0 to 1/4 percent. The Committee expects to maintain this target range until it is confident that the economy has weathered recent events and is on track to achieve its maximum employment and price stability goals.\\nThe Committee will continue to monitor the implications of incoming information for the economic outlook, including information related to public health, as well as global developments and muted inflation pressures, and will use its tools and act as appropriate to support the economy. In determining the timing and size of future adjustments to the stance of monetary policy, the Committee will assess realized and expected economic conditions relative to its maximum employment objective and its symmetric 2 percent inflation objective. This assessment will take into account a wide range of information, including measures of labor market conditions, indicators of inflation pressures and inflation expectations, and readings on financial and international developments.\\nTo support the flow of credit to households and businesses, over coming months the Federal Reserve will increase its holdings of Treasury securities and agency residential and commercial mortgage-backed securities at least at the current pace to sustain smooth market functioning, thereby fostering effective transmission of monetary policy to broader financial conditions. In addition, the Open Market Desk will continue to offer large-scale overnight and term repurchase agreement operations. The Committee will closely monitor developments and is prepared to adjust its plans as appropriate.\\nVoting for the monetary policy action were Jerome H. Powell, Chair; John C. Williams, Vice Chair; Michelle W. Bowman; Lael Brainard; Richard H. Clarida; Patrick Harker; Robert S. Kaplan; Neel Kashkari; Loretta J. Mester; and Randal K. Quarles.\\nImplementation Note issued June 10, 2020\\n', '\\nThe Federal Reserve is committed to using its full range of tools to support the U.S. economy in this challenging time, thereby promoting its maximum employment and price stability goals.\\nThe coronavirus outbreak is causing tremendous human and economic hardship across the United States and around the world. The virus and the measures taken to protect public health are inducing sharp declines in economic activity and a surge in job losses. Weaker demand and significantly lower oil prices are holding down consumer price inflation. The disruptions to economic activity here and abroad have significantly affected financial conditions and have impaired the flow of credit to U.S. households and businesses.\\nThe ongoing public health crisis will weigh heavily on economic activity, employment, and inflation in the near term, and poses considerable risks to the economic outlook over the medium term. In light of these developments, the Committee decided to maintain the target range for the federal funds rate at 0 to 1/4 percent. The Committee expects to maintain this target range until it is confident that the economy has weathered recent events and is on track to achieve its maximum employment and price stability goals.\\nThe Committee will continue to monitor the implications of incoming information for the economic outlook, including information related to public health, as well as global developments and muted inflation pressures, and will use its tools and act as appropriate to support the economy. In determining the timing and size of future adjustments to the stance of monetary policy, the Committee will assess realized and expected economic conditions relative to its maximum employment objective and its symmetric 2 percent inflation objective. This assessment will take into account a wide range of information, including measures of labor market conditions, indicators of inflation pressures and inflation expectations, and readings on financial and international developments.\\nTo support the flow of credit to households and businesses, the Federal Reserve will continue to purchase Treasury securities and agency residential and commercial mortgage-backed securities in the amounts needed to support smooth market functioning, thereby fostering effective transmission of monetary policy to broader financial conditions. In addition, the Open Market Desk will continue to offer large-scale overnight and term repurchase agreement operations. The Committee will closely monitor market conditions and is prepared to adjust its plans as appropriate.\\nVoting for the monetary policy action were Jerome H. Powell, Chair; John C. Williams, Vice Chair; Michelle W. Bowman; Lael Brainard; Richard H. Clarida; Patrick Harker; Robert S. Kaplan; Neel Kashkari; Loretta J. Mester; and Randal K. Quarles.\\nImplementation Note issued April 29, 2020\\n', '\\nThe Federal Reserve is committed to use its full range of tools to support the U.S. economy in this challenging time and thereby promote its maximum employment and price stability goals.\\nThe Federal Open Market Committee is taking further actions to support the flow of credit to households and businesses by addressing strains in the markets for Treasury securities and agency mortgage-backed securities. The Federal Reserve will continue to purchase Treasury securities and agency mortgage-backed securities in the amounts needed to support smooth market functioning and effective transmission of monetary policy to broader financial conditions. The Committee will include purchases of agency commercial mortgage-backed securities in its agency mortgage-backed security purchases. In addition, the Open Market Desk will continue to offer large-scale overnight and term repurchase agreement operations. The Committee will continue to closely monitor market conditions, and will assess the appropriate pace of its securities purchases at future meetings.\\nVoting (by notation) for the monetary policy action were Jerome H. Powell, Chair; John C. Williams, Vice Chair; Michelle W. Bowman; Lael Brainard; Richard H. Clarida; Patrick Harker; Robert S. Kaplan; Neel Kashkari; Loretta J. Mester; and Randal K. Quarles.\\nIn a related set of actions, the Federal Reserve announced additional measures to support the flow of credit to households and businesses. More information can be found on the Federal Reserve Board\\'s website.\\nIn connection with these plans, the Committee voted unanimously to authorize and direct the Federal Reserve Bank of New York, until instructed otherwise, to execute transactions in the System Open Market Account in accordance with the following domestic policy directive:\\n\\n\"Effective March 23, 2020, the Federal Open Market Committee directs the Desk to undertake open market operations as necessary to maintain the federal funds rate in a target range of 0 to 1/4 percent. The Committee directs the Desk to increase the System Open Market Account holdings of Treasury securities and agency mortgage-backed securities (MBS) in the amounts needed to support the smooth functioning of markets for Treasury securities and agency MBS. The Committee also directs the Desk to include purchases of agency commercial mortgage-backed securities in its agency mortgage-backed security purchases.\\nThe Committee also directs the Desk to continue conducting term and overnight repurchase agreement operations to ensure that the supply of reserves remains ample and to support the smooth functioning of short-term U.S. dollar funding markets. In addition, the Committee directs the Desk to conduct overnight reverse repurchase operations (and reverse repurchase operations with maturities of more than one day when necessary to accommodate weekend, holiday, or similar trading conventions) at an offering rate of 0.00 percent, in amounts limited only by the value of Treasury securities held outright in the System Open Market Account that are available for such operations and by a per-counterparty limit of $30 billion per day.\\nThe Committee directs the Desk to continue rolling over at auction all principal payments from the Federal Reserve\\'s holdings of Treasury securities and to reinvest all principal payments from the Federal Reserve\\'s holdings of agency debt and agency mortgage-backed securities received during each calendar month in agency mortgage-backed securities. Small deviations from these amounts for operational reasons are acceptable.\\nThe Committee also directs the Desk to engage in dollar roll and coupon swap transactions as necessary to facilitate settlement of the Federal Reserve\\'s agency mortgage-backed securities transactions.\"\\n\\nMore information regarding open market operations and reinvestments may be found on the Federal Reserve Bank of New York\\'s website.\\nFor media inquiries, call 202-452-2955.\\n\\n\\n\\nFederal Reserve announces extensive new measures to support the economy\\n\\n\\n\\n', \"\\nThe coronavirus outbreak has harmed communities and disrupted economic activity in many countries, including the United States. Global financial conditions have also been significantly affected. Available economic data show that the U.S. economy came into this challenging period on a strong footing. Information received since the Federal Open Market Committee met in January indicates that the labor market remained strong through February and economic activity rose at a moderate rate. Job gains have been solid, on average, in recent months, and the unemployment rate has remained low. Although household spending rose at a moderate pace, business fixed investment and exports remained weak. More recently, the energy sector has come under stress. On a 12â\\x80\\x91month basis, overall inflation and inflation for items other than food and energy are running below 2 percent. Market-based measures of inflation compensation have declined; survey-based measures of longer-term inflation expectations are little changed.\\nConsistent with its statutory mandate, the Committee seeks to foster maximum employment and price stability. The effects of the coronavirus will weigh on economic activity in the near term and pose risks to the economic outlook. In light of these developments, the Committee decided to lower the target range for the federal funds rate to 0 to 1/4 percent. The Committee expects to maintain this target range until it is confident that the economy has weathered recent events and is on track to achieve its maximum employment and price stability goals. This action will help support economic activity, strong labor market conditions, and inflation returning to the Committee's symmetric 2 percent objective.\\nThe Committee will continue to monitor the implications of incoming information for the economic outlook, including information related to public health, as well as global developments and muted inflation pressures, and will use its tools and act as appropriate to support the economy. In determining the timing and size of future adjustments to the stance of monetary policy, the Committee will assess realized and expected economic conditions relative to its maximum employment objective and its symmetric 2 percent inflation objective. This assessment will take into account a wide range of information, including measures of labor market conditions, indicators of inflation pressures and inflation expectations, and readings on financial and international developments.\\nThe Federal Reserve is prepared to use its full range of tools to support the flow of credit to households and businesses and thereby promote its maximum employment and price stability goals. To support the smooth functioning of markets for Treasury securities and agency mortgage-backed securities that are central to the flow of credit to households and businesses, over coming months the Committee will increase its holdings of Treasury securities by at least $500 billion and its holdings of agency mortgage-backed securities by at least $200 billion. The Committee will also reinvest all principal payments from the Federal Reserve's holdings of agency debt and agency mortgage-backed securities in agency mortgage-backed securities. In addition, the Open Market Desk has recently expanded its overnight and term repurchase agreement operations. The Committee will continue to closely monitor market conditions and is prepared to adjust its plans as appropriate.\\nVoting for the monetary policy action were Jerome H. Powell, Chair; John C. Williams, Vice Chair; Michelle W. Bowman; Lael Brainard; Richard H. Clarida; Patrick Harker; Robert S. Kaplan; Neel Kashkari; and Randal K. Quarles. Voting against this action was Loretta J. Mester, who was fully supportive of all of the actions taken to promote the smooth functioning of markets and the flow of credit to households and businesses but preferred to reduce the target range for the federal funds rate to 1/2 to 3/4 percent at this meeting.\\nIn a related set of actions to support the credit needs of households and businesses, the Federal Reserve announced measures related to the discount window, intraday credit, bank capital and liquidity buffers, reserve requirements, andâ\\x80\\x94in coordination with other central banksâ\\x80\\x94the U.S. dollar liquidity swap line arrangements. More information can be found on the Federal Reserve Board's website.\\nFor media inquiries, call 202-452-2955.\\n\\n\\n\\nImplementation Note issued March 15, 2020\\nFederal Reserve actions to support the flow of credit to households and businesses\\nCoordinated central bank action to enhance the provision of U.S. dollar liquidity\\n\\n\\n\\n\"]\n"
     ]
    }
   ],
   "source": [
    "article = soup_march_15\n",
    "for link in article.find_all(\"p\", class_=\"article__time\"):\n",
    "        date = link.find(text=True)\n",
    "        date_list.append(date)\n",
    "        print(date)\n",
    "for link in article.find_all(\"h3\", class_=\"title\"):\n",
    "        headline = link.find(text=True)\n",
    "        headline_list.append(headline)\n",
    "        print(headline)\n",
    "body = article.find_all(\"div\", class_=\"col-xs-12 col-sm-8 col-md-8\")\n",
    "list_paragraphs = []\n",
    "for p in np.arange(0, len(body)):\n",
    "    paragraph = body[p].get_text()\n",
    "    list_paragraphs.append(paragraph)\n",
    "    final_article = \" \".join(list_paragraphs)\n",
    "    \n",
    "    final_article = re.sub(\"\\xa0\", \"\", final_article)\n",
    "    final_article.format(text=True)\n",
    "    \n",
    "    text_list.append(final_article)\n",
    "    \n",
    "    print(text_list)\n",
    "        "
   ]
  },
  {
   "cell_type": "markdown",
   "metadata": {},
   "source": [
    "### March 3 SCRAPE"
   ]
  },
  {
   "cell_type": "code",
   "execution_count": 32,
   "metadata": {
    "scrolled": true
   },
   "outputs": [
    {
     "name": "stdout",
     "output_type": "stream",
     "text": [
      "March 03, 2020\n",
      "Federal Reserve issues FOMC statement\n",
      "['\\nThe Federal Reserve is committed to using its full range of tools to support the U.S. economy in this challenging time, thereby promoting its maximum employment and price stability goals.\\nThe coronavirus outbreak is causing tremendous human and economic hardship across the United States and around the world. The virus and the measures taken to protect public health have induced sharp declines in economic activity and a surge in job losses. Weaker demand and significantly lower oil prices are holding down consumer price inflation. Financial conditions have improved, in part reflecting policy measures to support the economy and the flow of credit to U.S. households and businesses.\\nThe ongoing public health crisis will weigh heavily on economic activity, employment, and inflation in the near term, and poses considerable risks to the economic outlook over the medium term. In light of these developments, the Committee decided to maintain the target range for the federal funds rate at 0 to 1/4 percent. The Committee expects to maintain this target range until it is confident that the economy has weathered recent events and is on track to achieve its maximum employment and price stability goals.\\nThe Committee will continue to monitor the implications of incoming information for the economic outlook, including information related to public health, as well as global developments and muted inflation pressures, and will use its tools and act as appropriate to support the economy. In determining the timing and size of future adjustments to the stance of monetary policy, the Committee will assess realized and expected economic conditions relative to its maximum employment objective and its symmetric 2 percent inflation objective. This assessment will take into account a wide range of information, including measures of labor market conditions, indicators of inflation pressures and inflation expectations, and readings on financial and international developments.\\nTo support the flow of credit to households and businesses, over coming months the Federal Reserve will increase its holdings of Treasury securities and agency residential and commercial mortgage-backed securities at least at the current pace to sustain smooth market functioning, thereby fostering effective transmission of monetary policy to broader financial conditions. In addition, the Open Market Desk will continue to offer large-scale overnight and term repurchase agreement operations. The Committee will closely monitor developments and is prepared to adjust its plans as appropriate.\\nVoting for the monetary policy action were Jerome H. Powell, Chair; John C. Williams, Vice Chair; Michelle W. Bowman; Lael Brainard; Richard H. Clarida; Patrick Harker; Robert S. Kaplan; Neel Kashkari; Loretta J. Mester; and Randal K. Quarles.\\nImplementation Note issued June 10, 2020\\n', '\\nThe Federal Reserve is committed to using its full range of tools to support the U.S. economy in this challenging time, thereby promoting its maximum employment and price stability goals.\\nThe coronavirus outbreak is causing tremendous human and economic hardship across the United States and around the world. The virus and the measures taken to protect public health are inducing sharp declines in economic activity and a surge in job losses. Weaker demand and significantly lower oil prices are holding down consumer price inflation. The disruptions to economic activity here and abroad have significantly affected financial conditions and have impaired the flow of credit to U.S. households and businesses.\\nThe ongoing public health crisis will weigh heavily on economic activity, employment, and inflation in the near term, and poses considerable risks to the economic outlook over the medium term. In light of these developments, the Committee decided to maintain the target range for the federal funds rate at 0 to 1/4 percent. The Committee expects to maintain this target range until it is confident that the economy has weathered recent events and is on track to achieve its maximum employment and price stability goals.\\nThe Committee will continue to monitor the implications of incoming information for the economic outlook, including information related to public health, as well as global developments and muted inflation pressures, and will use its tools and act as appropriate to support the economy. In determining the timing and size of future adjustments to the stance of monetary policy, the Committee will assess realized and expected economic conditions relative to its maximum employment objective and its symmetric 2 percent inflation objective. This assessment will take into account a wide range of information, including measures of labor market conditions, indicators of inflation pressures and inflation expectations, and readings on financial and international developments.\\nTo support the flow of credit to households and businesses, the Federal Reserve will continue to purchase Treasury securities and agency residential and commercial mortgage-backed securities in the amounts needed to support smooth market functioning, thereby fostering effective transmission of monetary policy to broader financial conditions. In addition, the Open Market Desk will continue to offer large-scale overnight and term repurchase agreement operations. The Committee will closely monitor market conditions and is prepared to adjust its plans as appropriate.\\nVoting for the monetary policy action were Jerome H. Powell, Chair; John C. Williams, Vice Chair; Michelle W. Bowman; Lael Brainard; Richard H. Clarida; Patrick Harker; Robert S. Kaplan; Neel Kashkari; Loretta J. Mester; and Randal K. Quarles.\\nImplementation Note issued April 29, 2020\\n', '\\nThe Federal Reserve is committed to use its full range of tools to support the U.S. economy in this challenging time and thereby promote its maximum employment and price stability goals.\\nThe Federal Open Market Committee is taking further actions to support the flow of credit to households and businesses by addressing strains in the markets for Treasury securities and agency mortgage-backed securities. The Federal Reserve will continue to purchase Treasury securities and agency mortgage-backed securities in the amounts needed to support smooth market functioning and effective transmission of monetary policy to broader financial conditions. The Committee will include purchases of agency commercial mortgage-backed securities in its agency mortgage-backed security purchases. In addition, the Open Market Desk will continue to offer large-scale overnight and term repurchase agreement operations. The Committee will continue to closely monitor market conditions, and will assess the appropriate pace of its securities purchases at future meetings.\\nVoting (by notation) for the monetary policy action were Jerome H. Powell, Chair; John C. Williams, Vice Chair; Michelle W. Bowman; Lael Brainard; Richard H. Clarida; Patrick Harker; Robert S. Kaplan; Neel Kashkari; Loretta J. Mester; and Randal K. Quarles.\\nIn a related set of actions, the Federal Reserve announced additional measures to support the flow of credit to households and businesses. More information can be found on the Federal Reserve Board\\'s website.\\nIn connection with these plans, the Committee voted unanimously to authorize and direct the Federal Reserve Bank of New York, until instructed otherwise, to execute transactions in the System Open Market Account in accordance with the following domestic policy directive:\\n\\n\"Effective March 23, 2020, the Federal Open Market Committee directs the Desk to undertake open market operations as necessary to maintain the federal funds rate in a target range of 0 to 1/4 percent. The Committee directs the Desk to increase the System Open Market Account holdings of Treasury securities and agency mortgage-backed securities (MBS) in the amounts needed to support the smooth functioning of markets for Treasury securities and agency MBS. The Committee also directs the Desk to include purchases of agency commercial mortgage-backed securities in its agency mortgage-backed security purchases.\\nThe Committee also directs the Desk to continue conducting term and overnight repurchase agreement operations to ensure that the supply of reserves remains ample and to support the smooth functioning of short-term U.S. dollar funding markets. In addition, the Committee directs the Desk to conduct overnight reverse repurchase operations (and reverse repurchase operations with maturities of more than one day when necessary to accommodate weekend, holiday, or similar trading conventions) at an offering rate of 0.00 percent, in amounts limited only by the value of Treasury securities held outright in the System Open Market Account that are available for such operations and by a per-counterparty limit of $30 billion per day.\\nThe Committee directs the Desk to continue rolling over at auction all principal payments from the Federal Reserve\\'s holdings of Treasury securities and to reinvest all principal payments from the Federal Reserve\\'s holdings of agency debt and agency mortgage-backed securities received during each calendar month in agency mortgage-backed securities. Small deviations from these amounts for operational reasons are acceptable.\\nThe Committee also directs the Desk to engage in dollar roll and coupon swap transactions as necessary to facilitate settlement of the Federal Reserve\\'s agency mortgage-backed securities transactions.\"\\n\\nMore information regarding open market operations and reinvestments may be found on the Federal Reserve Bank of New York\\'s website.\\nFor media inquiries, call 202-452-2955.\\n\\n\\n\\nFederal Reserve announces extensive new measures to support the economy\\n\\n\\n\\n', \"\\nThe coronavirus outbreak has harmed communities and disrupted economic activity in many countries, including the United States. Global financial conditions have also been significantly affected. Available economic data show that the U.S. economy came into this challenging period on a strong footing. Information received since the Federal Open Market Committee met in January indicates that the labor market remained strong through February and economic activity rose at a moderate rate. Job gains have been solid, on average, in recent months, and the unemployment rate has remained low. Although household spending rose at a moderate pace, business fixed investment and exports remained weak. More recently, the energy sector has come under stress. On a 12â\\x80\\x91month basis, overall inflation and inflation for items other than food and energy are running below 2 percent. Market-based measures of inflation compensation have declined; survey-based measures of longer-term inflation expectations are little changed.\\nConsistent with its statutory mandate, the Committee seeks to foster maximum employment and price stability. The effects of the coronavirus will weigh on economic activity in the near term and pose risks to the economic outlook. In light of these developments, the Committee decided to lower the target range for the federal funds rate to 0 to 1/4 percent. The Committee expects to maintain this target range until it is confident that the economy has weathered recent events and is on track to achieve its maximum employment and price stability goals. This action will help support economic activity, strong labor market conditions, and inflation returning to the Committee's symmetric 2 percent objective.\\nThe Committee will continue to monitor the implications of incoming information for the economic outlook, including information related to public health, as well as global developments and muted inflation pressures, and will use its tools and act as appropriate to support the economy. In determining the timing and size of future adjustments to the stance of monetary policy, the Committee will assess realized and expected economic conditions relative to its maximum employment objective and its symmetric 2 percent inflation objective. This assessment will take into account a wide range of information, including measures of labor market conditions, indicators of inflation pressures and inflation expectations, and readings on financial and international developments.\\nThe Federal Reserve is prepared to use its full range of tools to support the flow of credit to households and businesses and thereby promote its maximum employment and price stability goals. To support the smooth functioning of markets for Treasury securities and agency mortgage-backed securities that are central to the flow of credit to households and businesses, over coming months the Committee will increase its holdings of Treasury securities by at least $500 billion and its holdings of agency mortgage-backed securities by at least $200 billion. The Committee will also reinvest all principal payments from the Federal Reserve's holdings of agency debt and agency mortgage-backed securities in agency mortgage-backed securities. In addition, the Open Market Desk has recently expanded its overnight and term repurchase agreement operations. The Committee will continue to closely monitor market conditions and is prepared to adjust its plans as appropriate.\\nVoting for the monetary policy action were Jerome H. Powell, Chair; John C. Williams, Vice Chair; Michelle W. Bowman; Lael Brainard; Richard H. Clarida; Patrick Harker; Robert S. Kaplan; Neel Kashkari; and Randal K. Quarles. Voting against this action was Loretta J. Mester, who was fully supportive of all of the actions taken to promote the smooth functioning of markets and the flow of credit to households and businesses but preferred to reduce the target range for the federal funds rate to 1/2 to 3/4 percent at this meeting.\\nIn a related set of actions to support the credit needs of households and businesses, the Federal Reserve announced measures related to the discount window, intraday credit, bank capital and liquidity buffers, reserve requirements, andâ\\x80\\x94in coordination with other central banksâ\\x80\\x94the U.S. dollar liquidity swap line arrangements. More information can be found on the Federal Reserve Board's website.\\nFor media inquiries, call 202-452-2955.\\n\\n\\n\\nImplementation Note issued March 15, 2020\\nFederal Reserve actions to support the flow of credit to households and businesses\\nCoordinated central bank action to enhance the provision of U.S. dollar liquidity\\n\\n\\n\\n\", '\\nThe fundamentals of the U.S. economy remain strong. However, the coronavirus poses evolving risks to economic activity. In light of these risks and in support of achieving its maximum employment and price stability goals, the Federal Open Market Committee decided today to lower the target range for the federal funds rate by 1/2 percentage point, to 1 to 1â\\x80\\x911/4 percent. The Committee is closely monitoring developments and their implications for the economic outlook and will use its tools and act as appropriate to support the economy.\\nVoting for the monetary policy action were Jerome H. Powell, Chair; John C. Williams, Vice Chair; Michelle W. Bowman; Lael Brainard; Richard H. Clarida; Patrick Harker; Robert S. Kaplan; Neel Kashkari; Loretta J. Mester; and Randal K. Quarles.\\nFor media inquiries, call 202-452-2955.\\nImplementation Note issued March 3, 2020\\n']\n"
     ]
    }
   ],
   "source": [
    "article = soup_march_3\n",
    "for link in article.find_all(\"p\", class_=\"article__time\"):\n",
    "        date = link.find(text=True)\n",
    "        date_list.append(date)\n",
    "        print(date)\n",
    "for link in article.find_all(\"h3\", class_=\"title\"):\n",
    "        headline = link.find(text=True)\n",
    "        headline_list.append(headline)\n",
    "        print(headline)\n",
    "body = article.find_all(\"div\", class_=\"col-xs-12 col-sm-8 col-md-8\")\n",
    "list_paragraphs = []\n",
    "for p in np.arange(0, len(body)):\n",
    "    paragraph = body[p].get_text()\n",
    "    list_paragraphs.append(paragraph)\n",
    "    final_article = \" \".join(list_paragraphs)\n",
    "    \n",
    "    final_article = re.sub(\"\\xa0\", \"\", final_article)\n",
    "    final_article.format(text=True)\n",
    "    \n",
    "    text_list.append(final_article)\n",
    "    \n",
    "    print(text_list)\n",
    "        "
   ]
  },
  {
   "cell_type": "markdown",
   "metadata": {},
   "source": [
    "### Jan 29 SCRAPE"
   ]
  },
  {
   "cell_type": "code",
   "execution_count": 33,
   "metadata": {
    "scrolled": true
   },
   "outputs": [
    {
     "name": "stdout",
     "output_type": "stream",
     "text": [
      "January 29, 2020\n",
      "Federal Reserve issues FOMC statement\n",
      "['\\nThe Federal Reserve is committed to using its full range of tools to support the U.S. economy in this challenging time, thereby promoting its maximum employment and price stability goals.\\nThe coronavirus outbreak is causing tremendous human and economic hardship across the United States and around the world. The virus and the measures taken to protect public health have induced sharp declines in economic activity and a surge in job losses. Weaker demand and significantly lower oil prices are holding down consumer price inflation. Financial conditions have improved, in part reflecting policy measures to support the economy and the flow of credit to U.S. households and businesses.\\nThe ongoing public health crisis will weigh heavily on economic activity, employment, and inflation in the near term, and poses considerable risks to the economic outlook over the medium term. In light of these developments, the Committee decided to maintain the target range for the federal funds rate at 0 to 1/4 percent. The Committee expects to maintain this target range until it is confident that the economy has weathered recent events and is on track to achieve its maximum employment and price stability goals.\\nThe Committee will continue to monitor the implications of incoming information for the economic outlook, including information related to public health, as well as global developments and muted inflation pressures, and will use its tools and act as appropriate to support the economy. In determining the timing and size of future adjustments to the stance of monetary policy, the Committee will assess realized and expected economic conditions relative to its maximum employment objective and its symmetric 2 percent inflation objective. This assessment will take into account a wide range of information, including measures of labor market conditions, indicators of inflation pressures and inflation expectations, and readings on financial and international developments.\\nTo support the flow of credit to households and businesses, over coming months the Federal Reserve will increase its holdings of Treasury securities and agency residential and commercial mortgage-backed securities at least at the current pace to sustain smooth market functioning, thereby fostering effective transmission of monetary policy to broader financial conditions. In addition, the Open Market Desk will continue to offer large-scale overnight and term repurchase agreement operations. The Committee will closely monitor developments and is prepared to adjust its plans as appropriate.\\nVoting for the monetary policy action were Jerome H. Powell, Chair; John C. Williams, Vice Chair; Michelle W. Bowman; Lael Brainard; Richard H. Clarida; Patrick Harker; Robert S. Kaplan; Neel Kashkari; Loretta J. Mester; and Randal K. Quarles.\\nImplementation Note issued June 10, 2020\\n', '\\nThe Federal Reserve is committed to using its full range of tools to support the U.S. economy in this challenging time, thereby promoting its maximum employment and price stability goals.\\nThe coronavirus outbreak is causing tremendous human and economic hardship across the United States and around the world. The virus and the measures taken to protect public health are inducing sharp declines in economic activity and a surge in job losses. Weaker demand and significantly lower oil prices are holding down consumer price inflation. The disruptions to economic activity here and abroad have significantly affected financial conditions and have impaired the flow of credit to U.S. households and businesses.\\nThe ongoing public health crisis will weigh heavily on economic activity, employment, and inflation in the near term, and poses considerable risks to the economic outlook over the medium term. In light of these developments, the Committee decided to maintain the target range for the federal funds rate at 0 to 1/4 percent. The Committee expects to maintain this target range until it is confident that the economy has weathered recent events and is on track to achieve its maximum employment and price stability goals.\\nThe Committee will continue to monitor the implications of incoming information for the economic outlook, including information related to public health, as well as global developments and muted inflation pressures, and will use its tools and act as appropriate to support the economy. In determining the timing and size of future adjustments to the stance of monetary policy, the Committee will assess realized and expected economic conditions relative to its maximum employment objective and its symmetric 2 percent inflation objective. This assessment will take into account a wide range of information, including measures of labor market conditions, indicators of inflation pressures and inflation expectations, and readings on financial and international developments.\\nTo support the flow of credit to households and businesses, the Federal Reserve will continue to purchase Treasury securities and agency residential and commercial mortgage-backed securities in the amounts needed to support smooth market functioning, thereby fostering effective transmission of monetary policy to broader financial conditions. In addition, the Open Market Desk will continue to offer large-scale overnight and term repurchase agreement operations. The Committee will closely monitor market conditions and is prepared to adjust its plans as appropriate.\\nVoting for the monetary policy action were Jerome H. Powell, Chair; John C. Williams, Vice Chair; Michelle W. Bowman; Lael Brainard; Richard H. Clarida; Patrick Harker; Robert S. Kaplan; Neel Kashkari; Loretta J. Mester; and Randal K. Quarles.\\nImplementation Note issued April 29, 2020\\n', '\\nThe Federal Reserve is committed to use its full range of tools to support the U.S. economy in this challenging time and thereby promote its maximum employment and price stability goals.\\nThe Federal Open Market Committee is taking further actions to support the flow of credit to households and businesses by addressing strains in the markets for Treasury securities and agency mortgage-backed securities. The Federal Reserve will continue to purchase Treasury securities and agency mortgage-backed securities in the amounts needed to support smooth market functioning and effective transmission of monetary policy to broader financial conditions. The Committee will include purchases of agency commercial mortgage-backed securities in its agency mortgage-backed security purchases. In addition, the Open Market Desk will continue to offer large-scale overnight and term repurchase agreement operations. The Committee will continue to closely monitor market conditions, and will assess the appropriate pace of its securities purchases at future meetings.\\nVoting (by notation) for the monetary policy action were Jerome H. Powell, Chair; John C. Williams, Vice Chair; Michelle W. Bowman; Lael Brainard; Richard H. Clarida; Patrick Harker; Robert S. Kaplan; Neel Kashkari; Loretta J. Mester; and Randal K. Quarles.\\nIn a related set of actions, the Federal Reserve announced additional measures to support the flow of credit to households and businesses. More information can be found on the Federal Reserve Board\\'s website.\\nIn connection with these plans, the Committee voted unanimously to authorize and direct the Federal Reserve Bank of New York, until instructed otherwise, to execute transactions in the System Open Market Account in accordance with the following domestic policy directive:\\n\\n\"Effective March 23, 2020, the Federal Open Market Committee directs the Desk to undertake open market operations as necessary to maintain the federal funds rate in a target range of 0 to 1/4 percent. The Committee directs the Desk to increase the System Open Market Account holdings of Treasury securities and agency mortgage-backed securities (MBS) in the amounts needed to support the smooth functioning of markets for Treasury securities and agency MBS. The Committee also directs the Desk to include purchases of agency commercial mortgage-backed securities in its agency mortgage-backed security purchases.\\nThe Committee also directs the Desk to continue conducting term and overnight repurchase agreement operations to ensure that the supply of reserves remains ample and to support the smooth functioning of short-term U.S. dollar funding markets. In addition, the Committee directs the Desk to conduct overnight reverse repurchase operations (and reverse repurchase operations with maturities of more than one day when necessary to accommodate weekend, holiday, or similar trading conventions) at an offering rate of 0.00 percent, in amounts limited only by the value of Treasury securities held outright in the System Open Market Account that are available for such operations and by a per-counterparty limit of $30 billion per day.\\nThe Committee directs the Desk to continue rolling over at auction all principal payments from the Federal Reserve\\'s holdings of Treasury securities and to reinvest all principal payments from the Federal Reserve\\'s holdings of agency debt and agency mortgage-backed securities received during each calendar month in agency mortgage-backed securities. Small deviations from these amounts for operational reasons are acceptable.\\nThe Committee also directs the Desk to engage in dollar roll and coupon swap transactions as necessary to facilitate settlement of the Federal Reserve\\'s agency mortgage-backed securities transactions.\"\\n\\nMore information regarding open market operations and reinvestments may be found on the Federal Reserve Bank of New York\\'s website.\\nFor media inquiries, call 202-452-2955.\\n\\n\\n\\nFederal Reserve announces extensive new measures to support the economy\\n\\n\\n\\n', \"\\nThe coronavirus outbreak has harmed communities and disrupted economic activity in many countries, including the United States. Global financial conditions have also been significantly affected. Available economic data show that the U.S. economy came into this challenging period on a strong footing. Information received since the Federal Open Market Committee met in January indicates that the labor market remained strong through February and economic activity rose at a moderate rate. Job gains have been solid, on average, in recent months, and the unemployment rate has remained low. Although household spending rose at a moderate pace, business fixed investment and exports remained weak. More recently, the energy sector has come under stress. On a 12â\\x80\\x91month basis, overall inflation and inflation for items other than food and energy are running below 2 percent. Market-based measures of inflation compensation have declined; survey-based measures of longer-term inflation expectations are little changed.\\nConsistent with its statutory mandate, the Committee seeks to foster maximum employment and price stability. The effects of the coronavirus will weigh on economic activity in the near term and pose risks to the economic outlook. In light of these developments, the Committee decided to lower the target range for the federal funds rate to 0 to 1/4 percent. The Committee expects to maintain this target range until it is confident that the economy has weathered recent events and is on track to achieve its maximum employment and price stability goals. This action will help support economic activity, strong labor market conditions, and inflation returning to the Committee's symmetric 2 percent objective.\\nThe Committee will continue to monitor the implications of incoming information for the economic outlook, including information related to public health, as well as global developments and muted inflation pressures, and will use its tools and act as appropriate to support the economy. In determining the timing and size of future adjustments to the stance of monetary policy, the Committee will assess realized and expected economic conditions relative to its maximum employment objective and its symmetric 2 percent inflation objective. This assessment will take into account a wide range of information, including measures of labor market conditions, indicators of inflation pressures and inflation expectations, and readings on financial and international developments.\\nThe Federal Reserve is prepared to use its full range of tools to support the flow of credit to households and businesses and thereby promote its maximum employment and price stability goals. To support the smooth functioning of markets for Treasury securities and agency mortgage-backed securities that are central to the flow of credit to households and businesses, over coming months the Committee will increase its holdings of Treasury securities by at least $500 billion and its holdings of agency mortgage-backed securities by at least $200 billion. The Committee will also reinvest all principal payments from the Federal Reserve's holdings of agency debt and agency mortgage-backed securities in agency mortgage-backed securities. In addition, the Open Market Desk has recently expanded its overnight and term repurchase agreement operations. The Committee will continue to closely monitor market conditions and is prepared to adjust its plans as appropriate.\\nVoting for the monetary policy action were Jerome H. Powell, Chair; John C. Williams, Vice Chair; Michelle W. Bowman; Lael Brainard; Richard H. Clarida; Patrick Harker; Robert S. Kaplan; Neel Kashkari; and Randal K. Quarles. Voting against this action was Loretta J. Mester, who was fully supportive of all of the actions taken to promote the smooth functioning of markets and the flow of credit to households and businesses but preferred to reduce the target range for the federal funds rate to 1/2 to 3/4 percent at this meeting.\\nIn a related set of actions to support the credit needs of households and businesses, the Federal Reserve announced measures related to the discount window, intraday credit, bank capital and liquidity buffers, reserve requirements, andâ\\x80\\x94in coordination with other central banksâ\\x80\\x94the U.S. dollar liquidity swap line arrangements. More information can be found on the Federal Reserve Board's website.\\nFor media inquiries, call 202-452-2955.\\n\\n\\n\\nImplementation Note issued March 15, 2020\\nFederal Reserve actions to support the flow of credit to households and businesses\\nCoordinated central bank action to enhance the provision of U.S. dollar liquidity\\n\\n\\n\\n\", '\\nThe fundamentals of the U.S. economy remain strong. However, the coronavirus poses evolving risks to economic activity. In light of these risks and in support of achieving its maximum employment and price stability goals, the Federal Open Market Committee decided today to lower the target range for the federal funds rate by 1/2 percentage point, to 1 to 1â\\x80\\x911/4 percent. The Committee is closely monitoring developments and their implications for the economic outlook and will use its tools and act as appropriate to support the economy.\\nVoting for the monetary policy action were Jerome H. Powell, Chair; John C. Williams, Vice Chair; Michelle W. Bowman; Lael Brainard; Richard H. Clarida; Patrick Harker; Robert S. Kaplan; Neel Kashkari; Loretta J. Mester; and Randal K. Quarles.\\nFor media inquiries, call 202-452-2955.\\nImplementation Note issued March 3, 2020\\n', \"\\nInformation received since the Federal Open Market Committee met in December indicates that the labor market remains strong and that economic activity has been rising at a moderate rate. Job gains have been solid, on average, in recent months, and the unemployment rate has remained low. Although household spending has been rising at a moderate pace, business fixed investment and exports remain weak. On a 12â\\x80\\x91month basis, overall inflation and inflation for items other than food and energy are running below 2 percent. Market-based measures of inflation compensation remain low; survey-based measures of longer-term inflation expectations are little changed.\\nConsistent with its statutory mandate, the Committee seeks to foster maximum employment and price stability. The Committee decided to maintain the target range for the federal funds rate at 1â\\x80\\x911/2 to 1-3/4 percent. The Committee judges that the current stance of monetary policy is appropriate to support sustained expansion of economic activity, strong labor market conditions, and inflation returning to the Committee's symmetric 2 percent objective. The Committee will continue to monitor the implications of incoming information for the economic outlook, including global developments and muted inflation pressures, as it assesses the appropriate path of the target range for the federal funds rate.\\nIn determining the timing and size of future adjustments to the target range for the federal funds rate, the Committee will assess realized and expected economic conditions relative to its maximum employment objective and its symmetric 2 percent inflation objective. This assessment will take into account a wide range of information, including measures of labor market conditions, indicators of inflation pressures and inflation expectations, and readings on financial and international developments.\\nVoting for the monetary policy action were Jerome H. Powell, Chair; John C. Williams, Vice Chair; Michelle W. Bowman; Lael Brainard; Richard H. Clarida; Patrick Harker; Robert S. Kaplan; Neel Kashkari; Loretta J. Mester; and Randal K. Quarles.\\nImplementation Note issued January 29, 2020\\n\"]\n"
     ]
    }
   ],
   "source": [
    "article = soup_jan_29\n",
    "for link in article.find_all(\"p\", class_=\"article__time\"):\n",
    "        date = link.find(text=True)\n",
    "        date_list.append(date)\n",
    "        print(date)\n",
    "for link in article.find_all(\"h3\", class_=\"title\"):\n",
    "        headline = link.find(text=True)\n",
    "        headline_list.append(headline)\n",
    "        print(headline)\n",
    "body = article.find_all(\"div\", class_=\"col-xs-12 col-sm-8 col-md-8\")\n",
    "list_paragraphs = []\n",
    "for p in np.arange(0, len(body)):\n",
    "    paragraph = body[p].get_text()\n",
    "    list_paragraphs.append(paragraph)\n",
    "    final_article = \" \".join(list_paragraphs)\n",
    "    \n",
    "    final_article = re.sub(\"\\xa0\", \"\", final_article)\n",
    "    final_article.format(text=True)\n",
    "    \n",
    "    text_list.append(final_article)\n",
    "    \n",
    "    print(text_list)\n",
    "        "
   ]
  },
  {
   "cell_type": "markdown",
   "metadata": {},
   "source": [
    "### March 23 (CLEAN TEXT)"
   ]
  },
  {
   "cell_type": "code",
   "execution_count": 34,
   "metadata": {
    "scrolled": true
   },
   "outputs": [
    {
     "name": "stdout",
     "output_type": "stream",
     "text": [
      "Date: March 23, 2020\n",
      "Headline: Federal Reserve issues FOMC statement\n",
      "Text: \n",
      "The Federal Reserve is committed to use its full range of tools to support the U.S. economy in this challenging time and thereby promote its maximum employment and price stability goals.\n",
      "The Federal Open Market Committee is taking further actions to support the flow of credit to households and businesses by addressing strains in the markets for Treasury securities and agency mortgage-backed securities. The Federal Reserve will continue to purchase Treasury securities and agency mortgage-backed securities in the amounts needed to support smooth market functioning and effective transmission of monetary policy to broader financial conditions. The Committee will include purchases of agency commercial mortgage-backed securities in its agency mortgage-backed security purchases. In addition, the Open Market Desk will continue to offer large-scale overnight and term repurchase agreement operations. The Committee will continue to closely monitor market conditions, and will assess the appropriate pace of its securities purchases at future meetings.\n",
      "Voting (by notation) for the monetary policy action were Jerome H. Powell, Chair; John C. Williams, Vice Chair; Michelle W. Bowman; Lael Brainard; Richard H. Clarida; Patrick Harker; Robert S. Kaplan; Neel Kashkari; Loretta J. Mester; and Randal K. Quarles.\n",
      "In a related set of actions, the Federal Reserve announced additional measures to support the flow of credit to households and businesses. More information can be found on the Federal Reserve Board's website.\n",
      "In connection with these plans, the Committee voted unanimously to authorize and direct the Federal Reserve Bank of New York, until instructed otherwise, to execute transactions in the System Open Market Account in accordance with the following domestic policy directive:\n",
      "\n",
      "\"Effective March 23, 2020, the Federal Open Market Committee directs the Desk to undertake open market operations as necessary to maintain the federal funds rate in a target range of 0 to 1/4 percent. The Committee directs the Desk to increase the System Open Market Account holdings of Treasury securities and agency mortgage-backed securities (MBS) in the amounts needed to support the smooth functioning of markets for Treasury securities and agency MBS. The Committee also directs the Desk to include purchases of agency commercial mortgage-backed securities in its agency mortgage-backed security purchases.\n",
      "The Committee also directs the Desk to continue conducting term and overnight repurchase agreement operations to ensure that the supply of reserves remains ample and to support the smooth functioning of short-term U.S. dollar funding markets. In addition, the Committee directs the Desk to conduct overnight reverse repurchase operations (and reverse repurchase operations with maturities of more than one day when necessary to accommodate weekend, holiday, or similar trading conventions) at an offering rate of 0.00 percent, in amounts limited only by the value of Treasury securities held outright in the System Open Market Account that are available for such operations and by a per-counterparty limit of $30 billion per day.\n",
      "The Committee directs the Desk to continue rolling over at auction all principal payments from the Federal Reserve's holdings of Treasury securities and to reinvest all principal payments from the Federal Reserve's holdings of agency debt and agency mortgage-backed securities received during each calendar month in agency mortgage-backed securities. Small deviations from these amounts for operational reasons are acceptable.\n",
      "The Committee also directs the Desk to engage in dollar roll and coupon swap transactions as necessary to facilitate settlement of the Federal Reserve's agency mortgage-backed securities transactions.\"\n",
      "\n",
      "More information regarding open market operations and reinvestments may be found on the Federal Reserve Bank of New York's website.\n",
      "For media inquiries, call 202-452-2955.\n",
      "\n",
      "\n",
      "\n",
      "Federal Reserve announces extensive new measures to support the economy\n",
      "\n",
      "\n",
      "\n",
      "\n"
     ]
    }
   ],
   "source": [
    "article = soup_march_23\n",
    "for link in article.find_all(\"p\", class_=\"article__time\"):\n",
    "        print(\"Date: {}\". format(link.text))\n",
    "for link in article.find_all(\"h3\", class_=\"title\"):\n",
    "        print(\"Headline: {}\".format(link.text))\n",
    "for link in article.find_all(\"div\", class_=\"col-xs-12 col-sm-8 col-md-8\"):\n",
    "        print(\"Text: {}\".format(link.text))"
   ]
  },
  {
   "cell_type": "markdown",
   "metadata": {},
   "source": [
    "# DATAFRAME"
   ]
  },
  {
   "cell_type": "code",
   "execution_count": 45,
   "metadata": {},
   "outputs": [],
   "source": [
    "df_features = pd.DataFrame(\n",
    "    {'Article Text': text_list\n",
    "    })\n",
    "\n",
    "df_FOMC = pd.DataFrame(\n",
    "    {'Headline': headline_list,\n",
    "     'Date': date_list,\n",
    "    'Article': text_list})"
   ]
  },
  {
   "cell_type": "code",
   "execution_count": 46,
   "metadata": {},
   "outputs": [
    {
     "data": {
      "text/html": [
       "<div>\n",
       "<style scoped>\n",
       "    .dataframe tbody tr th:only-of-type {\n",
       "        vertical-align: middle;\n",
       "    }\n",
       "\n",
       "    .dataframe tbody tr th {\n",
       "        vertical-align: top;\n",
       "    }\n",
       "\n",
       "    .dataframe thead th {\n",
       "        text-align: right;\n",
       "    }\n",
       "</style>\n",
       "<table border=\"1\" class=\"dataframe\">\n",
       "  <thead>\n",
       "    <tr style=\"text-align: right;\">\n",
       "      <th></th>\n",
       "      <th>Headline</th>\n",
       "      <th>Article</th>\n",
       "    </tr>\n",
       "    <tr>\n",
       "      <th>Date</th>\n",
       "      <th></th>\n",
       "      <th></th>\n",
       "    </tr>\n",
       "  </thead>\n",
       "  <tbody>\n",
       "    <tr>\n",
       "      <th>June 10, 2020</th>\n",
       "      <td>Federal Reserve issues FOMC statement</td>\n",
       "      <td>\\nThe Federal Reserve is committed to using it...</td>\n",
       "    </tr>\n",
       "    <tr>\n",
       "      <th>April 29, 2020</th>\n",
       "      <td>Federal Reserve issues FOMC statement</td>\n",
       "      <td>\\nThe Federal Reserve is committed to using it...</td>\n",
       "    </tr>\n",
       "    <tr>\n",
       "      <th>March 23, 2020</th>\n",
       "      <td>Federal Reserve issues FOMC statement</td>\n",
       "      <td>\\nThe Federal Reserve is committed to use its ...</td>\n",
       "    </tr>\n",
       "    <tr>\n",
       "      <th>March 15, 2020</th>\n",
       "      <td>Federal Reserve issues FOMC statement</td>\n",
       "      <td>\\nThe coronavirus outbreak has harmed communit...</td>\n",
       "    </tr>\n",
       "    <tr>\n",
       "      <th>March 03, 2020</th>\n",
       "      <td>Federal Reserve issues FOMC statement</td>\n",
       "      <td>\\nThe fundamentals of the U.S. economy remain ...</td>\n",
       "    </tr>\n",
       "    <tr>\n",
       "      <th>January 29, 2020</th>\n",
       "      <td>Federal Reserve issues FOMC statement</td>\n",
       "      <td>\\nInformation received since the Federal Open ...</td>\n",
       "    </tr>\n",
       "  </tbody>\n",
       "</table>\n",
       "</div>"
      ],
      "text/plain": [
       "                                               Headline  \\\n",
       "Date                                                      \n",
       "June 10, 2020     Federal Reserve issues FOMC statement   \n",
       "April 29, 2020    Federal Reserve issues FOMC statement   \n",
       "March 23, 2020    Federal Reserve issues FOMC statement   \n",
       "March 15, 2020    Federal Reserve issues FOMC statement   \n",
       "March 03, 2020    Federal Reserve issues FOMC statement   \n",
       "January 29, 2020  Federal Reserve issues FOMC statement   \n",
       "\n",
       "                                                            Article  \n",
       "Date                                                                 \n",
       "June 10, 2020     \\nThe Federal Reserve is committed to using it...  \n",
       "April 29, 2020    \\nThe Federal Reserve is committed to using it...  \n",
       "March 23, 2020    \\nThe Federal Reserve is committed to use its ...  \n",
       "March 15, 2020    \\nThe coronavirus outbreak has harmed communit...  \n",
       "March 03, 2020    \\nThe fundamentals of the U.S. economy remain ...  \n",
       "January 29, 2020  \\nInformation received since the Federal Open ...  "
      ]
     },
     "execution_count": 46,
     "metadata": {},
     "output_type": "execute_result"
    }
   ],
   "source": [
    "df_FOMC = df_FOMC.set_index('Date')\n",
    "df_FOMC"
   ]
  },
  {
   "cell_type": "markdown",
   "metadata": {},
   "source": [
    "### To .CSV file"
   ]
  },
  {
   "cell_type": "code",
   "execution_count": 52,
   "metadata": {},
   "outputs": [],
   "source": [
    "df_csv_prep = df_FOMC.reset_index()\n",
    "df_csv_prep.to_csv('FOMC_df.csv')"
   ]
  },
  {
   "cell_type": "code",
   "execution_count": null,
   "metadata": {},
   "outputs": [],
   "source": []
  }
 ],
 "metadata": {
  "kernelspec": {
   "display_name": "Python 3",
   "language": "python",
   "name": "python3"
  },
  "language_info": {
   "codemirror_mode": {
    "name": "ipython",
    "version": 3
   },
   "file_extension": ".py",
   "mimetype": "text/x-python",
   "name": "python",
   "nbconvert_exporter": "python",
   "pygments_lexer": "ipython3",
   "version": "3.7.6"
  }
 },
 "nbformat": 4,
 "nbformat_minor": 4
}
