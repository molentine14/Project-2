{
 "cells": [
  {
   "cell_type": "markdown",
   "metadata": {},
   "source": [
    "# Import Libraries"
   ]
  },
  {
   "cell_type": "code",
   "execution_count": 4,
   "metadata": {},
   "outputs": [],
   "source": [
    "from pathlib import Path\n",
    "import csv\n",
    "import pandas as pd"
   ]
  },
  {
   "cell_type": "markdown",
   "metadata": {},
   "source": [
    "# Read CSV "
   ]
  },
  {
   "cell_type": "code",
   "execution_count": 5,
   "metadata": {},
   "outputs": [],
   "source": [
    "fedpath = Path(\"fed_covid.csv\")"
   ]
  },
  {
   "cell_type": "code",
   "execution_count": 6,
   "metadata": {},
   "outputs": [
    {
     "data": {
      "text/html": [
       "<div>\n",
       "<style scoped>\n",
       "    .dataframe tbody tr th:only-of-type {\n",
       "        vertical-align: middle;\n",
       "    }\n",
       "\n",
       "    .dataframe tbody tr th {\n",
       "        vertical-align: top;\n",
       "    }\n",
       "\n",
       "    .dataframe thead th {\n",
       "        text-align: right;\n",
       "    }\n",
       "</style>\n",
       "<table border=\"1\" class=\"dataframe\">\n",
       "  <thead>\n",
       "    <tr style=\"text-align: right;\">\n",
       "      <th></th>\n",
       "      <th>headline</th>\n",
       "      <th>release</th>\n",
       "      <th>url</th>\n",
       "      <th>text</th>\n",
       "    </tr>\n",
       "    <tr>\n",
       "      <th>date</th>\n",
       "      <th></th>\n",
       "      <th></th>\n",
       "      <th></th>\n",
       "      <th></th>\n",
       "    </tr>\n",
       "  </thead>\n",
       "  <tbody>\n",
       "    <tr>\n",
       "      <th>17-Mar-20</th>\n",
       "      <td>Federal Reserve Board announces establishment ...</td>\n",
       "      <td>Press Release</td>\n",
       "      <td>https://www.federalreserve.gov/newsevents/pres...</td>\n",
       "      <td>The Federal Reserve Board announced today that...</td>\n",
       "    </tr>\n",
       "    <tr>\n",
       "      <th>22-Mar-20</th>\n",
       "      <td>Agencies provide additional information to enc...</td>\n",
       "      <td>Joint Press Release</td>\n",
       "      <td>https://www.federalreserve.gov/newsevents/pres...</td>\n",
       "      <td>The federal financial institution regulatory a...</td>\n",
       "    </tr>\n",
       "  </tbody>\n",
       "</table>\n",
       "</div>"
      ],
      "text/plain": [
       "                                                    headline  \\\n",
       "date                                                           \n",
       "17-Mar-20  Federal Reserve Board announces establishment ...   \n",
       "22-Mar-20  Agencies provide additional information to enc...   \n",
       "\n",
       "                       release  \\\n",
       "date                             \n",
       "17-Mar-20        Press Release   \n",
       "22-Mar-20  Joint Press Release   \n",
       "\n",
       "                                                         url  \\\n",
       "date                                                           \n",
       "17-Mar-20  https://www.federalreserve.gov/newsevents/pres...   \n",
       "22-Mar-20  https://www.federalreserve.gov/newsevents/pres...   \n",
       "\n",
       "                                                        text  \n",
       "date                                                          \n",
       "17-Mar-20  The Federal Reserve Board announced today that...  \n",
       "22-Mar-20  The federal financial institution regulatory a...  "
      ]
     },
     "execution_count": 6,
     "metadata": {},
     "output_type": "execute_result"
    }
   ],
   "source": [
    "fed_csv = pd.read_csv(fedpath)\n",
    "\n",
    "# Set date as index\n",
    "fed_csv = fed_csv.set_index(fed_csv['date'])\n",
    "fed_csv = fed_csv.drop(columns = ['date'])\n",
    "fed_csv.sample(2)"
   ]
  },
  {
   "cell_type": "markdown",
   "metadata": {},
   "source": [
    "# LEMMANTIZE FED_FOMC"
   ]
  },
  {
   "cell_type": "markdown",
   "metadata": {},
   "source": [
    "#### Import Libraries "
   ]
  },
  {
   "cell_type": "code",
   "execution_count": 7,
   "metadata": {},
   "outputs": [
    {
     "name": "stderr",
     "output_type": "stream",
     "text": [
      "[nltk_data] Downloading package stopwords to\n",
      "[nltk_data]     C:\\Users\\mindy\\AppData\\Roaming\\nltk_data...\n",
      "[nltk_data]   Package stopwords is already up-to-date!\n",
      "[nltk_data] Downloading package punkt to\n",
      "[nltk_data]     C:\\Users\\mindy\\AppData\\Roaming\\nltk_data...\n",
      "[nltk_data]   Package punkt is already up-to-date!\n",
      "[nltk_data] Downloading package wordnet to\n",
      "[nltk_data]     C:\\Users\\mindy\\AppData\\Roaming\\nltk_data...\n",
      "[nltk_data]   Package wordnet is already up-to-date!\n"
     ]
    },
    {
     "data": {
      "text/plain": [
       "True"
      ]
     },
     "execution_count": 7,
     "metadata": {},
     "output_type": "execute_result"
    }
   ],
   "source": [
    "from nltk.stem import WordNetLemmatizer \n",
    "from nltk.tokenize import word_tokenize\n",
    "from nltk.corpus import reuters, stopwords\n",
    "import re\n",
    "\n",
    "from collections import Counter\n",
    "\n",
    "from nltk.corpus import reuters, stopwords\n",
    "from nltk.util import ngrams\n",
    "from nltk.tokenize import word_tokenize\n",
    "from nltk.stem import WordNetLemmatizer\n",
    "\n",
    "# Code to download corpora\n",
    "import nltk\n",
    "nltk.download('stopwords')\n",
    "nltk.download('punkt')\n",
    "nltk.download('wordnet')"
   ]
  },
  {
   "cell_type": "code",
   "execution_count": 8,
   "metadata": {},
   "outputs": [],
   "source": [
    "# Instantiate the lemmatizer\n",
    "lemmatizer = WordNetLemmatizer()"
   ]
  },
  {
   "cell_type": "code",
   "execution_count": 9,
   "metadata": {},
   "outputs": [],
   "source": [
    "fed_FOMC = fed_csv.loc[fed_csv['headline'] == 'Federal Reserve issues FOMC statement']"
   ]
  },
  {
   "cell_type": "code",
   "execution_count": 10,
   "metadata": {},
   "outputs": [],
   "source": [
    "jan_29_FOMC = fed_FOMC.iloc[-1]['text']\n",
    "mar_3_FOMC = fed_FOMC.iloc[-2]['text']\n",
    "mar_15_FOMC = fed_FOMC.iloc[-3]['text']\n",
    "mar_23_FOMC = fed_FOMC.iloc[-4]['text']\n",
    "apr_29_FOMC = fed_FOMC.iloc[-5]['text']\n",
    "jun_10_FOMC = fed_FOMC.iloc[-6]['text']"
   ]
  },
  {
   "cell_type": "code",
   "execution_count": 11,
   "metadata": {},
   "outputs": [],
   "source": [
    "# Define function\n",
    "def process_text(x):\n",
    "    sw = set(stopwords.words('english'))\n",
    "    regex = re.compile(\"[^a-zA-Z ]\")\n",
    "    re_clean = regex.sub('', x)\n",
    "    words = word_tokenize(re_clean)\n",
    "    lem = [lemmatizer.lemmatize(word) for word in words]\n",
    "    output = [word.lower() for word in lem if word.lower() not in sw]\n",
    "    return output"
   ]
  },
  {
   "cell_type": "markdown",
   "metadata": {},
   "source": [
    "### JAN 29 LEMMANTIZE"
   ]
  },
  {
   "cell_type": "code",
   "execution_count": 12,
   "metadata": {
    "scrolled": true
   },
   "outputs": [
    {
     "name": "stdout",
     "output_type": "stream",
     "text": [
      "['information', 'received', 'since', 'federal', 'open', 'market', 'committee', 'met', 'december', 'indicates', 'labor', 'market', 'remains', 'strong', 'economic', 'activity', 'ha', 'rising', 'moderate', 'rate', 'job', 'gain', 'solid', 'average', 'recent', 'month', 'unemployment', 'rate', 'ha', 'remained', 'low', 'although', 'household', 'spending', 'ha', 'rising', 'moderate', 'pace', 'business', 'fixed', 'investment', 'export', 'remain', 'weak', 'month', 'basis', 'overall', 'inflation', 'inflation', 'item', 'food', 'energy', 'running', 'percent', 'marketbased', 'measure', 'inflation', 'compensation', 'remain', 'low', 'surveybased', 'measure', 'longerterm', 'inflation', 'expectation', 'little', 'changed', 'consistent', 'statutory', 'mandate', 'committee', 'seek', 'foster', 'maximum', 'employment', 'price', 'stability', 'committee', 'decided', 'maintain', 'target', 'range', 'federal', 'fund', 'rate', 'percent', 'committee', 'judge', 'current', 'stance', 'monetary', 'policy', 'appropriate', 'support', 'sustained', 'expansion', 'economic', 'activity', 'strong', 'labor', 'market', 'condition', 'inflation', 'returning', 'committees', 'symmetric', 'percent', 'objective', 'committee', 'continue', 'monitor', 'implication', 'incoming', 'information', 'economic', 'outlook', 'including', 'global', 'development', 'muted', 'inflation', 'pressure', 'ass', 'appropriate', 'path', 'target', 'range', 'federal', 'fund', 'rate', 'determining', 'timing', 'size', 'future', 'adjustment', 'target', 'range', 'federal', 'fund', 'rate', 'committee', 'ass', 'realized', 'expected', 'economic', 'condition', 'relative', 'maximum', 'employment', 'objective', 'symmetric', 'percent', 'inflation', 'objective', 'assessment', 'take', 'account', 'wide', 'range', 'information', 'including', 'measure', 'labor', 'market', 'condition', 'indicator', 'inflation', 'pressure', 'inflation', 'expectation', 'reading', 'financial', 'international', 'development']\n"
     ]
    }
   ],
   "source": [
    "x = jan_29_FOMC\n",
    "\n",
    "LEM_jan_29 = process_text(x)\n",
    "print(LEM_jan_29)"
   ]
  },
  {
   "cell_type": "code",
   "execution_count": 13,
   "metadata": {},
   "outputs": [
    {
     "name": "stdout",
     "output_type": "stream",
     "text": [
      "{'inflation': 9, 'committee': 6, 'rate': 5, 'federal': 4, 'market': 4, 'economic': 4, 'percent': 4, 'range': 4, 'information': 3, 'labor': 3, 'ha': 3, 'measure': 3, 'target': 3, 'fund': 3, 'condition': 3, 'objective': 3, 'strong': 2, 'activity': 2, 'rising': 2, 'moderate': 2}\n"
     ]
    }
   ],
   "source": [
    "wc_jan_29 = Counter(LEM_jan_29)\n",
    "print(dict(wc_jan_29.most_common(20)))"
   ]
  },
  {
   "cell_type": "code",
   "execution_count": 14,
   "metadata": {},
   "outputs": [
    {
     "name": "stdout",
     "output_type": "stream",
     "text": [
      "{('labor', 'market'): 3, ('target', 'range'): 3, ('range', 'federal'): 3, ('federal', 'fund'): 3, ('fund', 'rate'): 3, ('economic', 'activity'): 2, ('ha', 'rising'): 2, ('rising', 'moderate'): 2, ('inflation', 'expectation'): 2, ('maximum', 'employment'): 2}\n"
     ]
    }
   ],
   "source": [
    "bigram_jan_29 = Counter(ngrams(LEM_jan_29, n=2))\n",
    "print(dict(bigram_jan_29.most_common(10)))"
   ]
  },
  {
   "cell_type": "markdown",
   "metadata": {},
   "source": [
    "# VADER SENTIMENT"
   ]
  },
  {
   "cell_type": "code",
   "execution_count": 15,
   "metadata": {},
   "outputs": [],
   "source": [
    "# Initial imports\n",
    "import os\n",
    "from pathlib import Path\n",
    "import pandas as pd\n",
    "import nltk\n",
    "from nltk.sentiment.vader import SentimentIntensityAnalyzer\n",
    "\n",
    "get_ipython().run_line_magic(\"matplotlib\", \"inline\")"
   ]
  },
  {
   "cell_type": "code",
   "execution_count": 16,
   "metadata": {},
   "outputs": [
    {
     "name": "stderr",
     "output_type": "stream",
     "text": [
      "[nltk_data] Downloading package vader_lexicon to\n",
      "[nltk_data]     C:\\Users\\mindy\\AppData\\Roaming\\nltk_data...\n",
      "[nltk_data]   Package vader_lexicon is already up-to-date!\n"
     ]
    }
   ],
   "source": [
    "# Download/Update the VADER Lexicon\n",
    "nltk.download('vader_lexicon')\n",
    "\n",
    "# Initialize the VADER sentiment analyzer\n",
    "analyzer = SentimentIntensityAnalyzer()"
   ]
  },
  {
   "cell_type": "code",
   "execution_count": 17,
   "metadata": {},
   "outputs": [
    {
     "data": {
      "text/html": [
       "<div>\n",
       "<style scoped>\n",
       "    .dataframe tbody tr th:only-of-type {\n",
       "        vertical-align: middle;\n",
       "    }\n",
       "\n",
       "    .dataframe tbody tr th {\n",
       "        vertical-align: top;\n",
       "    }\n",
       "\n",
       "    .dataframe thead th {\n",
       "        text-align: right;\n",
       "    }\n",
       "</style>\n",
       "<table border=\"1\" class=\"dataframe\">\n",
       "  <thead>\n",
       "    <tr style=\"text-align: right;\">\n",
       "      <th></th>\n",
       "      <th>date</th>\n",
       "      <th>headline</th>\n",
       "      <th>release</th>\n",
       "      <th>url</th>\n",
       "      <th>text</th>\n",
       "    </tr>\n",
       "  </thead>\n",
       "  <tbody>\n",
       "    <tr>\n",
       "      <th>0</th>\n",
       "      <td>1-Jul-20</td>\n",
       "      <td>Agencies provide largest firms with informatio...</td>\n",
       "      <td>Joint Press Release</td>\n",
       "      <td>https://www.federalreserve.gov/newsevents/pres...</td>\n",
       "      <td>The Federal Deposit Insurance Corporation and ...</td>\n",
       "    </tr>\n",
       "    <tr>\n",
       "      <th>1</th>\n",
       "      <td>29-Jun-20</td>\n",
       "      <td>Federal Reserve Board releases new term sheet ...</td>\n",
       "      <td>Press Release</td>\n",
       "      <td>https://www.federalreserve.gov/newsevents/pres...</td>\n",
       "      <td>The Federal Reserve Board on Monday released a...</td>\n",
       "    </tr>\n",
       "  </tbody>\n",
       "</table>\n",
       "</div>"
      ],
      "text/plain": [
       "        date                                           headline  \\\n",
       "0   1-Jul-20  Agencies provide largest firms with informatio...   \n",
       "1  29-Jun-20  Federal Reserve Board releases new term sheet ...   \n",
       "\n",
       "               release                                                url  \\\n",
       "0  Joint Press Release  https://www.federalreserve.gov/newsevents/pres...   \n",
       "1        Press Release  https://www.federalreserve.gov/newsevents/pres...   \n",
       "\n",
       "                                                text  \n",
       "0  The Federal Deposit Insurance Corporation and ...  \n",
       "1  The Federal Reserve Board on Monday released a...  "
      ]
     },
     "execution_count": 17,
     "metadata": {},
     "output_type": "execute_result"
    }
   ],
   "source": [
    "fed_csv_num = fed_csv.reset_index()\n",
    "fed_csv_num.head(2)"
   ]
  },
  {
   "cell_type": "code",
   "execution_count": 18,
   "metadata": {},
   "outputs": [],
   "source": [
    "# Calculate sentiment based on compound score\n",
    "def get_sentiment(score):\n",
    "    # Neutral by default\n",
    "    result = 0 \n",
    "    # Positive \n",
    "    if score >= 0.99:\n",
    "        result = 1 \n",
    "    # Negative\n",
    "    elif score <= -0.05:\n",
    "        result = -1   \n",
    "    return result"
   ]
  },
  {
   "cell_type": "code",
   "execution_count": 19,
   "metadata": {},
   "outputs": [],
   "source": [
    "# Sentiment scores dictionaries\n",
    "title_sent = {\n",
    "    \"title_compound\": [],\n",
    "    \"title_pos\": [],\n",
    "    \"title_neu\": [],\n",
    "    \"title_neg\": [],\n",
    "    \"title_sent\": [],\n",
    "}\n",
    "text_sent = {\n",
    "    \"text_compound\": [],\n",
    "    \"text_pos\": [],\n",
    "    \"text_neu\": [],\n",
    "    \"text_neg\": [],\n",
    "    \"text_sent\": [],\n",
    "}"
   ]
  },
  {
   "cell_type": "code",
   "execution_count": 20,
   "metadata": {},
   "outputs": [
    {
     "data": {
      "text/html": [
       "<div>\n",
       "<style scoped>\n",
       "    .dataframe tbody tr th:only-of-type {\n",
       "        vertical-align: middle;\n",
       "    }\n",
       "\n",
       "    .dataframe tbody tr th {\n",
       "        vertical-align: top;\n",
       "    }\n",
       "\n",
       "    .dataframe thead th {\n",
       "        text-align: right;\n",
       "    }\n",
       "</style>\n",
       "<table border=\"1\" class=\"dataframe\">\n",
       "  <thead>\n",
       "    <tr style=\"text-align: right;\">\n",
       "      <th></th>\n",
       "      <th>date</th>\n",
       "      <th>headline</th>\n",
       "      <th>release</th>\n",
       "      <th>url</th>\n",
       "      <th>text</th>\n",
       "      <th>title_compound</th>\n",
       "      <th>title_pos</th>\n",
       "      <th>title_neu</th>\n",
       "      <th>title_neg</th>\n",
       "      <th>title_sent</th>\n",
       "      <th>text_compound</th>\n",
       "      <th>text_pos</th>\n",
       "      <th>text_neu</th>\n",
       "      <th>text_neg</th>\n",
       "      <th>text_sent</th>\n",
       "    </tr>\n",
       "  </thead>\n",
       "  <tbody>\n",
       "    <tr>\n",
       "      <th>0</th>\n",
       "      <td>1-Jul-20</td>\n",
       "      <td>Agencies provide largest firms with informatio...</td>\n",
       "      <td>Joint Press Release</td>\n",
       "      <td>https://www.federalreserve.gov/newsevents/pres...</td>\n",
       "      <td>The Federal Deposit Insurance Corporation and ...</td>\n",
       "      <td>0.0000</td>\n",
       "      <td>0.000</td>\n",
       "      <td>1.000</td>\n",
       "      <td>0.000</td>\n",
       "      <td>0</td>\n",
       "      <td>-0.9186</td>\n",
       "      <td>0.020</td>\n",
       "      <td>0.897</td>\n",
       "      <td>0.083</td>\n",
       "      <td>-1</td>\n",
       "    </tr>\n",
       "    <tr>\n",
       "      <th>1</th>\n",
       "      <td>29-Jun-20</td>\n",
       "      <td>Federal Reserve Board releases new term sheet ...</td>\n",
       "      <td>Press Release</td>\n",
       "      <td>https://www.federalreserve.gov/newsevents/pres...</td>\n",
       "      <td>The Federal Reserve Board on Monday released a...</td>\n",
       "      <td>0.3818</td>\n",
       "      <td>0.126</td>\n",
       "      <td>0.874</td>\n",
       "      <td>0.000</td>\n",
       "      <td>0</td>\n",
       "      <td>0.9733</td>\n",
       "      <td>0.217</td>\n",
       "      <td>0.762</td>\n",
       "      <td>0.020</td>\n",
       "      <td>0</td>\n",
       "    </tr>\n",
       "    <tr>\n",
       "      <th>2</th>\n",
       "      <td>25-Jun-20</td>\n",
       "      <td>Federal Reserve Board releases results of stre...</td>\n",
       "      <td>Press Release</td>\n",
       "      <td>https://www.federalreserve.gov/newsevents/pres...</td>\n",
       "      <td>The Federal Reserve Board on Thursday released...</td>\n",
       "      <td>-0.4215</td>\n",
       "      <td>0.000</td>\n",
       "      <td>0.877</td>\n",
       "      <td>0.123</td>\n",
       "      <td>-1</td>\n",
       "      <td>-0.9398</td>\n",
       "      <td>0.057</td>\n",
       "      <td>0.852</td>\n",
       "      <td>0.092</td>\n",
       "      <td>-1</td>\n",
       "    </tr>\n",
       "    <tr>\n",
       "      <th>3</th>\n",
       "      <td>15-Jun-20</td>\n",
       "      <td>Federal Reserve Board announces it will be see...</td>\n",
       "      <td>Press Release</td>\n",
       "      <td>https://www.federalreserve.gov/newsevents/pres...</td>\n",
       "      <td>The Federal Reserve Board on Monday announced ...</td>\n",
       "      <td>0.5994</td>\n",
       "      <td>0.164</td>\n",
       "      <td>0.836</td>\n",
       "      <td>0.000</td>\n",
       "      <td>0</td>\n",
       "      <td>0.9887</td>\n",
       "      <td>0.120</td>\n",
       "      <td>0.856</td>\n",
       "      <td>0.024</td>\n",
       "      <td>0</td>\n",
       "    </tr>\n",
       "    <tr>\n",
       "      <th>4</th>\n",
       "      <td>15-Jun-20</td>\n",
       "      <td>Federal Reserve Board announces updates to Sec...</td>\n",
       "      <td>Press Release</td>\n",
       "      <td>https://www.federalreserve.gov/newsevents/pres...</td>\n",
       "      <td>The Federal Reserve Board on Monday announced ...</td>\n",
       "      <td>0.7845</td>\n",
       "      <td>0.198</td>\n",
       "      <td>0.802</td>\n",
       "      <td>0.000</td>\n",
       "      <td>0</td>\n",
       "      <td>0.9720</td>\n",
       "      <td>0.160</td>\n",
       "      <td>0.840</td>\n",
       "      <td>0.000</td>\n",
       "      <td>0</td>\n",
       "    </tr>\n",
       "  </tbody>\n",
       "</table>\n",
       "</div>"
      ],
      "text/plain": [
       "        date                                           headline  \\\n",
       "0   1-Jul-20  Agencies provide largest firms with informatio...   \n",
       "1  29-Jun-20  Federal Reserve Board releases new term sheet ...   \n",
       "2  25-Jun-20  Federal Reserve Board releases results of stre...   \n",
       "3  15-Jun-20  Federal Reserve Board announces it will be see...   \n",
       "4  15-Jun-20  Federal Reserve Board announces updates to Sec...   \n",
       "\n",
       "               release                                                url  \\\n",
       "0  Joint Press Release  https://www.federalreserve.gov/newsevents/pres...   \n",
       "1        Press Release  https://www.federalreserve.gov/newsevents/pres...   \n",
       "2        Press Release  https://www.federalreserve.gov/newsevents/pres...   \n",
       "3        Press Release  https://www.federalreserve.gov/newsevents/pres...   \n",
       "4        Press Release  https://www.federalreserve.gov/newsevents/pres...   \n",
       "\n",
       "                                                text  title_compound  \\\n",
       "0  The Federal Deposit Insurance Corporation and ...          0.0000   \n",
       "1  The Federal Reserve Board on Monday released a...          0.3818   \n",
       "2  The Federal Reserve Board on Thursday released...         -0.4215   \n",
       "3  The Federal Reserve Board on Monday announced ...          0.5994   \n",
       "4  The Federal Reserve Board on Monday announced ...          0.7845   \n",
       "\n",
       "   title_pos  title_neu  title_neg  title_sent  text_compound  text_pos  \\\n",
       "0      0.000      1.000      0.000           0        -0.9186     0.020   \n",
       "1      0.126      0.874      0.000           0         0.9733     0.217   \n",
       "2      0.000      0.877      0.123          -1        -0.9398     0.057   \n",
       "3      0.164      0.836      0.000           0         0.9887     0.120   \n",
       "4      0.198      0.802      0.000           0         0.9720     0.160   \n",
       "\n",
       "   text_neu  text_neg  text_sent  \n",
       "0     0.897     0.083         -1  \n",
       "1     0.762     0.020          0  \n",
       "2     0.852     0.092         -1  \n",
       "3     0.856     0.024          0  \n",
       "4     0.840     0.000          0  "
      ]
     },
     "execution_count": 20,
     "metadata": {},
     "output_type": "execute_result"
    }
   ],
   "source": [
    "# Get sentiment for the text and the title\n",
    "for index, row in fed_csv_num.iterrows():\n",
    "    try:\n",
    "        # Sentiment scoring with VADER\n",
    "        title_sentiment = analyzer.polarity_scores(row[\"headline\"])\n",
    "        title_sent[\"title_compound\"].append(title_sentiment[\"compound\"])\n",
    "        title_sent[\"title_pos\"].append(title_sentiment[\"pos\"])\n",
    "        title_sent[\"title_neu\"].append(title_sentiment[\"neu\"])\n",
    "        title_sent[\"title_neg\"].append(title_sentiment[\"neg\"])\n",
    "        title_sent[\"title_sent\"].append(get_sentiment(title_sentiment[\"compound\"]))\n",
    "\n",
    "        text_sentiment = analyzer.polarity_scores(row[\"text\"])\n",
    "        text_sent[\"text_compound\"].append(text_sentiment[\"compound\"])\n",
    "        text_sent[\"text_pos\"].append(text_sentiment[\"pos\"])\n",
    "        text_sent[\"text_neu\"].append(text_sentiment[\"neu\"])\n",
    "        text_sent[\"text_neg\"].append(text_sentiment[\"neg\"])\n",
    "        text_sent[\"text_sent\"].append(get_sentiment(text_sentiment[\"compound\"]))\n",
    "    except AttributeError:\n",
    "        pass\n",
    "\n",
    "# Attaching sentiment columns to the News DataFrame\n",
    "title_sentiment_df = pd.DataFrame(title_sent)\n",
    "text_sentiment_df = pd.DataFrame(text_sent)\n",
    "fed_csv_num = fed_csv_num.join(title_sentiment_df).join(text_sentiment_df)\n",
    "\n",
    "fed_csv_num.head()\n"
   ]
  },
  {
   "cell_type": "code",
   "execution_count": 21,
   "metadata": {},
   "outputs": [
    {
     "data": {
      "text/plain": [
       "<matplotlib.axes._subplots.AxesSubplot at 0x25d85349388>"
      ]
     },
     "execution_count": 21,
     "metadata": {},
     "output_type": "execute_result"
    },
    {
     "data": {
      "image/png": "[encoded data removed]",
      "text/plain": [
       "<Figure size 1440x576 with 1 Axes>"
      ]
     },
     "metadata": {
      "needs_background": "light"
     },
     "output_type": "display_data"
    }
   ],
   "source": [
    "fed_csv_num.plot(\n",
    "    y=[\"title_sent\", \"text_sent\"],\n",
    "    kind=\"bar\",\n",
    "    title=\"News Title and Text Sentiment Comparisson\",\n",
    "    figsize=(20, 8),\n",
    "    grid=True,\n",
    ")"
   ]
  },
  {
   "cell_type": "code",
   "execution_count": 22,
   "metadata": {},
   "outputs": [
    {
     "data": {
      "text/html": [
       "<div>\n",
       "<style scoped>\n",
       "    .dataframe tbody tr th:only-of-type {\n",
       "        vertical-align: middle;\n",
       "    }\n",
       "\n",
       "    .dataframe tbody tr th {\n",
       "        vertical-align: top;\n",
       "    }\n",
       "\n",
       "    .dataframe thead th {\n",
       "        text-align: right;\n",
       "    }\n",
       "</style>\n",
       "<table border=\"1\" class=\"dataframe\">\n",
       "  <thead>\n",
       "    <tr style=\"text-align: right;\">\n",
       "      <th></th>\n",
       "      <th>title_compound</th>\n",
       "      <th>title_pos</th>\n",
       "      <th>title_neu</th>\n",
       "      <th>title_neg</th>\n",
       "      <th>title_sent</th>\n",
       "      <th>text_compound</th>\n",
       "      <th>text_pos</th>\n",
       "      <th>text_neu</th>\n",
       "      <th>text_neg</th>\n",
       "      <th>text_sent</th>\n",
       "    </tr>\n",
       "  </thead>\n",
       "  <tbody>\n",
       "    <tr>\n",
       "      <th>count</th>\n",
       "      <td>60.000000</td>\n",
       "      <td>60.000000</td>\n",
       "      <td>60.000000</td>\n",
       "      <td>60.000000</td>\n",
       "      <td>60.000000</td>\n",
       "      <td>60.000000</td>\n",
       "      <td>60.00000</td>\n",
       "      <td>60.00000</td>\n",
       "      <td>60.000000</td>\n",
       "      <td>60.000000</td>\n",
       "    </tr>\n",
       "    <tr>\n",
       "      <th>mean</th>\n",
       "      <td>0.273065</td>\n",
       "      <td>0.125600</td>\n",
       "      <td>0.849600</td>\n",
       "      <td>0.024800</td>\n",
       "      <td>-0.066667</td>\n",
       "      <td>0.734025</td>\n",
       "      <td>0.11990</td>\n",
       "      <td>0.84575</td>\n",
       "      <td>0.034300</td>\n",
       "      <td>0.016667</td>\n",
       "    </tr>\n",
       "    <tr>\n",
       "      <th>std</th>\n",
       "      <td>0.331667</td>\n",
       "      <td>0.122015</td>\n",
       "      <td>0.131767</td>\n",
       "      <td>0.057485</td>\n",
       "      <td>0.251549</td>\n",
       "      <td>0.469465</td>\n",
       "      <td>0.04793</td>\n",
       "      <td>0.05197</td>\n",
       "      <td>0.026028</td>\n",
       "      <td>0.431461</td>\n",
       "    </tr>\n",
       "    <tr>\n",
       "      <th>min</th>\n",
       "      <td>-0.421500</td>\n",
       "      <td>0.000000</td>\n",
       "      <td>0.565000</td>\n",
       "      <td>0.000000</td>\n",
       "      <td>-1.000000</td>\n",
       "      <td>-0.939800</td>\n",
       "      <td>0.02000</td>\n",
       "      <td>0.69400</td>\n",
       "      <td>0.000000</td>\n",
       "      <td>-1.000000</td>\n",
       "    </tr>\n",
       "    <tr>\n",
       "      <th>25%</th>\n",
       "      <td>0.000000</td>\n",
       "      <td>0.000000</td>\n",
       "      <td>0.747500</td>\n",
       "      <td>0.000000</td>\n",
       "      <td>0.000000</td>\n",
       "      <td>0.711500</td>\n",
       "      <td>0.08875</td>\n",
       "      <td>0.81550</td>\n",
       "      <td>0.016750</td>\n",
       "      <td>0.000000</td>\n",
       "    </tr>\n",
       "    <tr>\n",
       "      <th>50%</th>\n",
       "      <td>0.202300</td>\n",
       "      <td>0.122000</td>\n",
       "      <td>0.865000</td>\n",
       "      <td>0.000000</td>\n",
       "      <td>0.000000</td>\n",
       "      <td>0.955750</td>\n",
       "      <td>0.11650</td>\n",
       "      <td>0.84600</td>\n",
       "      <td>0.027500</td>\n",
       "      <td>0.000000</td>\n",
       "    </tr>\n",
       "    <tr>\n",
       "      <th>75%</th>\n",
       "      <td>0.602650</td>\n",
       "      <td>0.214250</td>\n",
       "      <td>1.000000</td>\n",
       "      <td>0.000000</td>\n",
       "      <td>0.000000</td>\n",
       "      <td>0.983625</td>\n",
       "      <td>0.15625</td>\n",
       "      <td>0.87400</td>\n",
       "      <td>0.049000</td>\n",
       "      <td>0.000000</td>\n",
       "    </tr>\n",
       "    <tr>\n",
       "      <th>max</th>\n",
       "      <td>0.844200</td>\n",
       "      <td>0.391000</td>\n",
       "      <td>1.000000</td>\n",
       "      <td>0.249000</td>\n",
       "      <td>0.000000</td>\n",
       "      <td>0.999300</td>\n",
       "      <td>0.23400</td>\n",
       "      <td>0.97000</td>\n",
       "      <td>0.102000</td>\n",
       "      <td>1.000000</td>\n",
       "    </tr>\n",
       "  </tbody>\n",
       "</table>\n",
       "</div>"
      ],
      "text/plain": [
       "       title_compound  title_pos  title_neu  title_neg  title_sent  \\\n",
       "count       60.000000  60.000000  60.000000  60.000000   60.000000   \n",
       "mean         0.273065   0.125600   0.849600   0.024800   -0.066667   \n",
       "std          0.331667   0.122015   0.131767   0.057485    0.251549   \n",
       "min         -0.421500   0.000000   0.565000   0.000000   -1.000000   \n",
       "25%          0.000000   0.000000   0.747500   0.000000    0.000000   \n",
       "50%          0.202300   0.122000   0.865000   0.000000    0.000000   \n",
       "75%          0.602650   0.214250   1.000000   0.000000    0.000000   \n",
       "max          0.844200   0.391000   1.000000   0.249000    0.000000   \n",
       "\n",
       "       text_compound  text_pos  text_neu   text_neg  text_sent  \n",
       "count      60.000000  60.00000  60.00000  60.000000  60.000000  \n",
       "mean        0.734025   0.11990   0.84575   0.034300   0.016667  \n",
       "std         0.469465   0.04793   0.05197   0.026028   0.431461  \n",
       "min        -0.939800   0.02000   0.69400   0.000000  -1.000000  \n",
       "25%         0.711500   0.08875   0.81550   0.016750   0.000000  \n",
       "50%         0.955750   0.11650   0.84600   0.027500   0.000000  \n",
       "75%         0.983625   0.15625   0.87400   0.049000   0.000000  \n",
       "max         0.999300   0.23400   0.97000   0.102000   1.000000  "
      ]
     },
     "execution_count": 22,
     "metadata": {},
     "output_type": "execute_result"
    }
   ],
   "source": [
    "fed_csv_num.describe()"
   ]
  },
  {
   "cell_type": "code",
   "execution_count": null,
   "metadata": {},
   "outputs": [],
   "source": []
  }
 ],
 "metadata": {
  "kernelspec": {
   "display_name": "Python 3",
   "language": "python",
   "name": "python3"
  },
  "language_info": {
   "codemirror_mode": {
    "name": "ipython",
    "version": 3
   },
   "file_extension": ".py",
   "mimetype": "text/x-python",
   "name": "python",
   "nbconvert_exporter": "python",
   "pygments_lexer": "ipython3",
   "version": "3.7.7"
  }
 },
 "nbformat": 4,
 "nbformat_minor": 4
}
